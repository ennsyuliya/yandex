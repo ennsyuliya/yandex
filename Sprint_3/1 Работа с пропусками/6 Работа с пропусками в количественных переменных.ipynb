{
 "cells": [
  {
   "cell_type": "code",
   "execution_count": 1,
   "metadata": {},
   "outputs": [],
   "source": [
    "import pandas as pd"
   ]
  },
  {
   "cell_type": "code",
   "execution_count": 2,
   "metadata": {},
   "outputs": [
    {
     "data": {
      "text/html": [
       "<div>\n",
       "<style scoped>\n",
       "    .dataframe tbody tr th:only-of-type {\n",
       "        vertical-align: middle;\n",
       "    }\n",
       "\n",
       "    .dataframe tbody tr th {\n",
       "        vertical-align: top;\n",
       "    }\n",
       "\n",
       "    .dataframe thead th {\n",
       "        text-align: right;\n",
       "    }\n",
       "</style>\n",
       "<table border=\"1\" class=\"dataframe\">\n",
       "  <thead>\n",
       "    <tr style=\"text-align: right;\">\n",
       "      <th></th>\n",
       "      <th>user_id</th>\n",
       "      <th>device_type</th>\n",
       "      <th>age</th>\n",
       "      <th>time</th>\n",
       "    </tr>\n",
       "  </thead>\n",
       "  <tbody>\n",
       "    <tr>\n",
       "      <th>0</th>\n",
       "      <td>7141786820</td>\n",
       "      <td>desktop</td>\n",
       "      <td>33.0</td>\n",
       "      <td>2127.0</td>\n",
       "    </tr>\n",
       "    <tr>\n",
       "      <th>1</th>\n",
       "      <td>5644686960</td>\n",
       "      <td>mobile</td>\n",
       "      <td>30.0</td>\n",
       "      <td>35.0</td>\n",
       "    </tr>\n",
       "    <tr>\n",
       "      <th>2</th>\n",
       "      <td>1914055396</td>\n",
       "      <td>desktop</td>\n",
       "      <td>25.0</td>\n",
       "      <td>NaN</td>\n",
       "    </tr>\n",
       "    <tr>\n",
       "      <th>3</th>\n",
       "      <td>4099355752</td>\n",
       "      <td>desktop</td>\n",
       "      <td>25.0</td>\n",
       "      <td>2123.0</td>\n",
       "    </tr>\n",
       "    <tr>\n",
       "      <th>4</th>\n",
       "      <td>6032477554</td>\n",
       "      <td>desktop</td>\n",
       "      <td>27.0</td>\n",
       "      <td>59.0</td>\n",
       "    </tr>\n",
       "  </tbody>\n",
       "</table>\n",
       "</div>"
      ],
      "text/plain": [
       "      user_id device_type   age    time\n",
       "0  7141786820     desktop  33.0  2127.0\n",
       "1  5644686960      mobile  30.0    35.0\n",
       "2  1914055396     desktop  25.0     NaN\n",
       "3  4099355752     desktop  25.0  2123.0\n",
       "4  6032477554     desktop  27.0    59.0"
      ]
     },
     "execution_count": 2,
     "metadata": {},
     "output_type": "execute_result"
    }
   ],
   "source": [
    "metrica = pd.read_csv('./metrica_data.csv')\n",
    "metrica.head()"
   ]
  },
  {
   "cell_type": "markdown",
   "metadata": {},
   "source": [
    "## 1"
   ]
  },
  {
   "cell_type": "markdown",
   "metadata": {},
   "source": [
    "\n",
    "Прочитайте данные из файла metrica_data.csv. \n",
    "\n",
    "Результат сохраните в переменной metrica. Посчитайте средний возраст пользователей и сохраните его в переменной age_avg. \n",
    "\n",
    "Выведите результат на экран.\n",
    "\n",
    "Путь к файлу: /datasets/metrica_data.csv"
   ]
  },
  {
   "cell_type": "code",
   "execution_count": 3,
   "metadata": {},
   "outputs": [
    {
     "data": {
      "text/plain": [
       "np.float64(32.48966336969903)"
      ]
     },
     "execution_count": 3,
     "metadata": {},
     "output_type": "execute_result"
    }
   ],
   "source": [
    "age_avg = metrica['age'].agg('mean')\n",
    "age_avg"
   ]
  },
  {
   "cell_type": "markdown",
   "metadata": {},
   "source": [
    "## 2"
   ]
  },
  {
   "cell_type": "markdown",
   "metadata": {},
   "source": [
    "Замените пропущенные значения в столбце age на средний возраст. \n",
    "\n",
    "Выведите на экран первые 10 строк набора данных."
   ]
  },
  {
   "cell_type": "code",
   "execution_count": 4,
   "metadata": {},
   "outputs": [
    {
     "name": "stdout",
     "output_type": "stream",
     "text": [
      "      user_id device_type        age    time\n",
      "0  7141786820     desktop  33.000000  2127.0\n",
      "1  5644686960      mobile  30.000000    35.0\n",
      "2  1914055396     desktop  25.000000     NaN\n",
      "3  4099355752     desktop  25.000000  2123.0\n",
      "4  6032477554     desktop  27.000000    59.0\n",
      "5  5872473344      mobile  27.000000     NaN\n",
      "6  7977025176      mobile  32.489663     NaN\n",
      "7  3512872755     desktop  40.000000    65.0\n",
      "8  1827368713     desktop  37.000000     NaN\n",
      "9  8688870165     desktop  36.000000  2124.0\n"
     ]
    }
   ],
   "source": [
    "age_avg = metrica['age'].mean()\n",
    "metrica['age'] = metrica['age'].fillna(value=age_avg)\n",
    "print(metrica.head(10))\n"
   ]
  },
  {
   "cell_type": "markdown",
   "metadata": {},
   "source": [
    "## 3"
   ]
  },
  {
   "cell_type": "markdown",
   "metadata": {},
   "source": [
    "\n",
    "Найдите среднее время просмотра сайта и сохраните в переменной time_avg. \n",
    "\n",
    "Выведите результат на экран."
   ]
  },
  {
   "cell_type": "code",
   "execution_count": 5,
   "metadata": {},
   "outputs": [
    {
     "data": {
      "text/plain": [
       "np.float64(1430.1294506106535)"
      ]
     },
     "execution_count": 5,
     "metadata": {},
     "output_type": "execute_result"
    }
   ],
   "source": [
    "time_avg = metrica['time'].agg('mean')\n",
    "time_avg"
   ]
  },
  {
   "cell_type": "markdown",
   "metadata": {},
   "source": [
    "## 4"
   ]
  },
  {
   "cell_type": "markdown",
   "metadata": {},
   "source": [
    "Можно заменить время на среднее значение. Однако пользователи заходят в интернет то с мобильного устройства, то с компьютера. \n",
    "\n",
    "Учтём этот факт для повышения точности заполнения пропущенных данных о времени на сайте.\n",
    "\n",
    "Выберите строки таблицы с данными о просмотрах с компьютера, т.е. такие, где в столбце 'device_type' указано значение 'desktop'. \n",
    "\n",
    "Сохраните результат в переменной desktop_data и выведите первые 5 строк на экран."
   ]
  },
  {
   "cell_type": "code",
   "execution_count": 6,
   "metadata": {},
   "outputs": [
    {
     "data": {
      "text/html": [
       "<div>\n",
       "<style scoped>\n",
       "    .dataframe tbody tr th:only-of-type {\n",
       "        vertical-align: middle;\n",
       "    }\n",
       "\n",
       "    .dataframe tbody tr th {\n",
       "        vertical-align: top;\n",
       "    }\n",
       "\n",
       "    .dataframe thead th {\n",
       "        text-align: right;\n",
       "    }\n",
       "</style>\n",
       "<table border=\"1\" class=\"dataframe\">\n",
       "  <thead>\n",
       "    <tr style=\"text-align: right;\">\n",
       "      <th></th>\n",
       "      <th>user_id</th>\n",
       "      <th>device_type</th>\n",
       "      <th>age</th>\n",
       "      <th>time</th>\n",
       "    </tr>\n",
       "  </thead>\n",
       "  <tbody>\n",
       "    <tr>\n",
       "      <th>0</th>\n",
       "      <td>7141786820</td>\n",
       "      <td>desktop</td>\n",
       "      <td>33.0</td>\n",
       "      <td>2127.0</td>\n",
       "    </tr>\n",
       "    <tr>\n",
       "      <th>2</th>\n",
       "      <td>1914055396</td>\n",
       "      <td>desktop</td>\n",
       "      <td>25.0</td>\n",
       "      <td>NaN</td>\n",
       "    </tr>\n",
       "    <tr>\n",
       "      <th>3</th>\n",
       "      <td>4099355752</td>\n",
       "      <td>desktop</td>\n",
       "      <td>25.0</td>\n",
       "      <td>2123.0</td>\n",
       "    </tr>\n",
       "    <tr>\n",
       "      <th>4</th>\n",
       "      <td>6032477554</td>\n",
       "      <td>desktop</td>\n",
       "      <td>27.0</td>\n",
       "      <td>59.0</td>\n",
       "    </tr>\n",
       "    <tr>\n",
       "      <th>7</th>\n",
       "      <td>3512872755</td>\n",
       "      <td>desktop</td>\n",
       "      <td>40.0</td>\n",
       "      <td>65.0</td>\n",
       "    </tr>\n",
       "    <tr>\n",
       "      <th>...</th>\n",
       "      <td>...</td>\n",
       "      <td>...</td>\n",
       "      <td>...</td>\n",
       "      <td>...</td>\n",
       "    </tr>\n",
       "    <tr>\n",
       "      <th>99992</th>\n",
       "      <td>7964851413</td>\n",
       "      <td>desktop</td>\n",
       "      <td>35.0</td>\n",
       "      <td>2095.0</td>\n",
       "    </tr>\n",
       "    <tr>\n",
       "      <th>99994</th>\n",
       "      <td>7751404712</td>\n",
       "      <td>desktop</td>\n",
       "      <td>40.0</td>\n",
       "      <td>NaN</td>\n",
       "    </tr>\n",
       "    <tr>\n",
       "      <th>99995</th>\n",
       "      <td>7823848431</td>\n",
       "      <td>desktop</td>\n",
       "      <td>26.0</td>\n",
       "      <td>2093.0</td>\n",
       "    </tr>\n",
       "    <tr>\n",
       "      <th>99998</th>\n",
       "      <td>8228213054</td>\n",
       "      <td>desktop</td>\n",
       "      <td>36.0</td>\n",
       "      <td>2096.0</td>\n",
       "    </tr>\n",
       "    <tr>\n",
       "      <th>99999</th>\n",
       "      <td>79268366</td>\n",
       "      <td>desktop</td>\n",
       "      <td>25.0</td>\n",
       "      <td>2137.0</td>\n",
       "    </tr>\n",
       "  </tbody>\n",
       "</table>\n",
       "<p>73764 rows × 4 columns</p>\n",
       "</div>"
      ],
      "text/plain": [
       "          user_id device_type   age    time\n",
       "0      7141786820     desktop  33.0  2127.0\n",
       "2      1914055396     desktop  25.0     NaN\n",
       "3      4099355752     desktop  25.0  2123.0\n",
       "4      6032477554     desktop  27.0    59.0\n",
       "7      3512872755     desktop  40.0    65.0\n",
       "...           ...         ...   ...     ...\n",
       "99992  7964851413     desktop  35.0  2095.0\n",
       "99994  7751404712     desktop  40.0     NaN\n",
       "99995  7823848431     desktop  26.0  2093.0\n",
       "99998  8228213054     desktop  36.0  2096.0\n",
       "99999    79268366     desktop  25.0  2137.0\n",
       "\n",
       "[73764 rows x 4 columns]"
      ]
     },
     "execution_count": 6,
     "metadata": {},
     "output_type": "execute_result"
    }
   ],
   "source": [
    "desktop_data = metrica.loc[metrica.loc[:,'device_type'] == 'desktop']\n",
    "desktop_data\n"
   ]
  },
  {
   "cell_type": "markdown",
   "metadata": {},
   "source": [
    "## 5"
   ]
  },
  {
   "cell_type": "markdown",
   "metadata": {},
   "source": [
    "Установите, сколько времени в среднем проводят на сайте пользователи настольных компьютеров. \n",
    "\n",
    "Результат сохраните в переменной desktop_data_time_avg. \n",
    "\n",
    "Закомментируйте вывод предыдущего задания и выведите значение desktop_data_time_avg на экран."
   ]
  },
  {
   "cell_type": "code",
   "execution_count": 7,
   "metadata": {},
   "outputs": [
    {
     "data": {
      "text/plain": [
       "np.float64(1741.8747158537378)"
      ]
     },
     "execution_count": 7,
     "metadata": {},
     "output_type": "execute_result"
    }
   ],
   "source": [
    "desktop_data_time_avg = desktop_data['time'].agg('mean')\n",
    "desktop_data_time_avg"
   ]
  },
  {
   "cell_type": "markdown",
   "metadata": {},
   "source": [
    "## 6"
   ]
  },
  {
   "cell_type": "markdown",
   "metadata": {},
   "source": [
    "Получите таблицу с данными о просмотрах с мобильных платформ. \n",
    "\n",
    "Сохраните результат в переменной mobile_data и выведите первые 5 строк на экран."
   ]
  },
  {
   "cell_type": "code",
   "execution_count": 8,
   "metadata": {},
   "outputs": [
    {
     "data": {
      "text/html": [
       "<div>\n",
       "<style scoped>\n",
       "    .dataframe tbody tr th:only-of-type {\n",
       "        vertical-align: middle;\n",
       "    }\n",
       "\n",
       "    .dataframe tbody tr th {\n",
       "        vertical-align: top;\n",
       "    }\n",
       "\n",
       "    .dataframe thead th {\n",
       "        text-align: right;\n",
       "    }\n",
       "</style>\n",
       "<table border=\"1\" class=\"dataframe\">\n",
       "  <thead>\n",
       "    <tr style=\"text-align: right;\">\n",
       "      <th></th>\n",
       "      <th>user_id</th>\n",
       "      <th>device_type</th>\n",
       "      <th>age</th>\n",
       "      <th>time</th>\n",
       "    </tr>\n",
       "  </thead>\n",
       "  <tbody>\n",
       "    <tr>\n",
       "      <th>1</th>\n",
       "      <td>5644686960</td>\n",
       "      <td>mobile</td>\n",
       "      <td>30.000000</td>\n",
       "      <td>35.0</td>\n",
       "    </tr>\n",
       "    <tr>\n",
       "      <th>5</th>\n",
       "      <td>5872473344</td>\n",
       "      <td>mobile</td>\n",
       "      <td>27.000000</td>\n",
       "      <td>NaN</td>\n",
       "    </tr>\n",
       "    <tr>\n",
       "      <th>6</th>\n",
       "      <td>7977025176</td>\n",
       "      <td>mobile</td>\n",
       "      <td>32.489663</td>\n",
       "      <td>NaN</td>\n",
       "    </tr>\n",
       "    <tr>\n",
       "      <th>10</th>\n",
       "      <td>7172802697</td>\n",
       "      <td>mobile</td>\n",
       "      <td>30.000000</td>\n",
       "      <td>NaN</td>\n",
       "    </tr>\n",
       "    <tr>\n",
       "      <th>14</th>\n",
       "      <td>9312844109</td>\n",
       "      <td>mobile</td>\n",
       "      <td>32.489663</td>\n",
       "      <td>40.0</td>\n",
       "    </tr>\n",
       "    <tr>\n",
       "      <th>...</th>\n",
       "      <td>...</td>\n",
       "      <td>...</td>\n",
       "      <td>...</td>\n",
       "      <td>...</td>\n",
       "    </tr>\n",
       "    <tr>\n",
       "      <th>99988</th>\n",
       "      <td>5652872698</td>\n",
       "      <td>mobile</td>\n",
       "      <td>27.000000</td>\n",
       "      <td>NaN</td>\n",
       "    </tr>\n",
       "    <tr>\n",
       "      <th>99991</th>\n",
       "      <td>3373532849</td>\n",
       "      <td>mobile</td>\n",
       "      <td>28.000000</td>\n",
       "      <td>49.0</td>\n",
       "    </tr>\n",
       "    <tr>\n",
       "      <th>99993</th>\n",
       "      <td>8576390025</td>\n",
       "      <td>mobile</td>\n",
       "      <td>32.000000</td>\n",
       "      <td>NaN</td>\n",
       "    </tr>\n",
       "    <tr>\n",
       "      <th>99996</th>\n",
       "      <td>3586574436</td>\n",
       "      <td>mobile</td>\n",
       "      <td>36.000000</td>\n",
       "      <td>40.0</td>\n",
       "    </tr>\n",
       "    <tr>\n",
       "      <th>99997</th>\n",
       "      <td>859960707</td>\n",
       "      <td>mobile</td>\n",
       "      <td>28.000000</td>\n",
       "      <td>30.0</td>\n",
       "    </tr>\n",
       "  </tbody>\n",
       "</table>\n",
       "<p>26236 rows × 4 columns</p>\n",
       "</div>"
      ],
      "text/plain": [
       "          user_id device_type        age  time\n",
       "1      5644686960      mobile  30.000000  35.0\n",
       "5      5872473344      mobile  27.000000   NaN\n",
       "6      7977025176      mobile  32.489663   NaN\n",
       "10     7172802697      mobile  30.000000   NaN\n",
       "14     9312844109      mobile  32.489663  40.0\n",
       "...           ...         ...        ...   ...\n",
       "99988  5652872698      mobile  27.000000   NaN\n",
       "99991  3373532849      mobile  28.000000  49.0\n",
       "99993  8576390025      mobile  32.000000   NaN\n",
       "99996  3586574436      mobile  36.000000  40.0\n",
       "99997   859960707      mobile  28.000000  30.0\n",
       "\n",
       "[26236 rows x 4 columns]"
      ]
     },
     "execution_count": 8,
     "metadata": {},
     "output_type": "execute_result"
    }
   ],
   "source": [
    "mobile_data = metrica.loc[metrica.loc[:,'device_type'] == 'mobile']\n",
    "mobile_data"
   ]
  },
  {
   "cell_type": "markdown",
   "metadata": {},
   "source": [
    "## 7"
   ]
  },
  {
   "cell_type": "markdown",
   "metadata": {},
   "source": [
    "Посчитайте среднее время пребывания на сайте пользователей мобильных платформ. \n",
    "\n",
    "Результат сохраните в переменной mobile_data_time_avg. \n",
    "\n",
    "Закомментируйте вывод предыдущего задания и выведите значение mobile_data_time_avg на экран."
   ]
  },
  {
   "cell_type": "code",
   "execution_count": 9,
   "metadata": {},
   "outputs": [
    {
     "data": {
      "text/plain": [
       "np.float64(41.15691239238949)"
      ]
     },
     "execution_count": 9,
     "metadata": {},
     "output_type": "execute_result"
    }
   ],
   "source": [
    "mobile_data_time_avg = mobile_data['time'].mean()\n",
    "mobile_data_time_avg"
   ]
  }
 ],
 "metadata": {
  "kernelspec": {
   "display_name": "Python 3",
   "language": "python",
   "name": "python3"
  },
  "language_info": {
   "codemirror_mode": {
    "name": "ipython",
    "version": 3
   },
   "file_extension": ".py",
   "mimetype": "text/x-python",
   "name": "python",
   "nbconvert_exporter": "python",
   "pygments_lexer": "ipython3",
   "version": "3.11.9"
  }
 },
 "nbformat": 4,
 "nbformat_minor": 2
}
