{
 "cells": [
  {
   "cell_type": "code",
   "execution_count": 1,
   "metadata": {},
   "outputs": [],
   "source": [
    "import pandas as pd\n"
   ]
  },
  {
   "cell_type": "markdown",
   "metadata": {},
   "source": [
    "### 1\n",
    "\n",
    "Выведите на экран первые пять строк таблицы logs. Определите, какой столбец соответствует логической переменной, и выведите его название на экран."
   ]
  },
  {
   "cell_type": "code",
   "execution_count": 2,
   "metadata": {},
   "outputs": [
    {
     "data": {
      "text/html": [
       "<div>\n",
       "<style scoped>\n",
       "    .dataframe tbody tr th:only-of-type {\n",
       "        vertical-align: middle;\n",
       "    }\n",
       "\n",
       "    .dataframe tbody tr th {\n",
       "        vertical-align: top;\n",
       "    }\n",
       "\n",
       "    .dataframe thead th {\n",
       "        text-align: right;\n",
       "    }\n",
       "</style>\n",
       "<table border=\"1\" class=\"dataframe\">\n",
       "  <thead>\n",
       "    <tr style=\"text-align: right;\">\n",
       "      <th></th>\n",
       "      <th>user_id</th>\n",
       "      <th>source</th>\n",
       "      <th>email</th>\n",
       "      <th>purchase</th>\n",
       "    </tr>\n",
       "  </thead>\n",
       "  <tbody>\n",
       "    <tr>\n",
       "      <th>0</th>\n",
       "      <td>7141786820</td>\n",
       "      <td>other</td>\n",
       "      <td>NaN</td>\n",
       "      <td>0</td>\n",
       "    </tr>\n",
       "    <tr>\n",
       "      <th>1</th>\n",
       "      <td>5644686960</td>\n",
       "      <td>email</td>\n",
       "      <td>c129aa540a</td>\n",
       "      <td>0</td>\n",
       "    </tr>\n",
       "    <tr>\n",
       "      <th>2</th>\n",
       "      <td>1914055396</td>\n",
       "      <td>context</td>\n",
       "      <td>NaN</td>\n",
       "      <td>0</td>\n",
       "    </tr>\n",
       "    <tr>\n",
       "      <th>3</th>\n",
       "      <td>4099355752</td>\n",
       "      <td>other</td>\n",
       "      <td>NaN</td>\n",
       "      <td>0</td>\n",
       "    </tr>\n",
       "    <tr>\n",
       "      <th>4</th>\n",
       "      <td>6032477554</td>\n",
       "      <td>context</td>\n",
       "      <td>NaN</td>\n",
       "      <td>1</td>\n",
       "    </tr>\n",
       "  </tbody>\n",
       "</table>\n",
       "</div>"
      ],
      "text/plain": [
       "      user_id   source       email  purchase\n",
       "0  7141786820    other         NaN         0\n",
       "1  5644686960    email  c129aa540a         0\n",
       "2  1914055396  context         NaN         0\n",
       "3  4099355752    other         NaN         0\n",
       "4  6032477554  context         NaN         1"
      ]
     },
     "execution_count": 2,
     "metadata": {},
     "output_type": "execute_result"
    }
   ],
   "source": [
    "logs = pd.read_csv('./logs.csv')\n",
    "logs.head()"
   ]
  },
  {
   "cell_type": "markdown",
   "metadata": {},
   "source": [
    "### 2\n",
    "\n",
    "Перед вами список переменных из набора данных Яндекс.Маркета. Выведите на экран названия категориальных переменных."
   ]
  },
  {
   "cell_type": "code",
   "execution_count": 2,
   "metadata": {},
   "outputs": [
    {
     "name": "stdout",
     "output_type": "stream",
     "text": [
      "name manufacturer category color reseller\n"
     ]
    }
   ],
   "source": [
    "variables = [ 'name', # название товара\n",
    "              'num_reviews', # количество отзывов\n",
    "              'manufacturer', # производитель\n",
    "              'medium_price', # средняя цена\n",
    "              'min_price', # минимальная цена\n",
    "              'max_price', # максимальная цена\n",
    "              'category', # категория\n",
    "              'color', # цвет\n",
    "              'reseller', # продавец\n",
    "              'has_discount', # есть ли скидки?\n",
    "]\n",
    "\n",
    "print('name', 'manufacturer', 'category', 'color', 'reseller')"
   ]
  },
  {
   "cell_type": "markdown",
   "metadata": {},
   "source": [
    "### 3\n",
    "\n",
    "Сервис бронирования личного жилья для отдыха хранит информацию о хозяевах. Выведите названия количественных переменных.\n",
    "\n",
    "Подсказка\n",
    "\n",
    "Выберите в списке количественные переменные и выведите их на экран одним вызовом функции print()."
   ]
  },
  {
   "cell_type": "code",
   "execution_count": 3,
   "metadata": {},
   "outputs": [
    {
     "name": "stdout",
     "output_type": "stream",
     "text": [
      "accommodates bathroom bedrooms beds price\n"
     ]
    }
   ],
   "source": [
    "variables = [ 'host_name', # имя хозяина жилья\n",
    "              'city', # город\n",
    "              'zipcode', # индекс\n",
    "              'accommodates', # количество гостей\n",
    "              'bathroom', # количество ванных комнат\n",
    "              'bedrooms', # количество спальных комнат\n",
    "              'beds', # количество кроватей\n",
    "              'price', # цена\n",
    "]\n",
    "print(variables[3], variables[4],variables[5], variables[6], variables[7])"
   ]
  },
  {
   "cell_type": "markdown",
   "metadata": {},
   "source": [
    "### 4\n",
    "\n",
    "Данные новостного сервиса содержат информацию о действиях пользователей. Выведите названия категориальных переменных."
   ]
  },
  {
   "cell_type": "code",
   "execution_count": 4,
   "metadata": {},
   "outputs": [
    {
     "name": "stdout",
     "output_type": "stream",
     "text": [
      "user_id news_type event tag\n"
     ]
    }
   ],
   "source": [
    "variables = [ 'user_id',  # id пользователя\n",
    "              'news_type',  # тип новостного сообщения\n",
    "              'event',  # вид события: клик, показ\n",
    "              'tag',  # тема новостного сообщения\n",
    "]\n",
    "print(variables[0], variables[1],variables[2], variables[3])"
   ]
  },
  {
   "cell_type": "markdown",
   "metadata": {},
   "source": [
    "### 5\n",
    "\n",
    "Краудфандинговый сервис хранит информацию о проектах. Выведите названия количественных переменных."
   ]
  },
  {
   "cell_type": "code",
   "execution_count": 5,
   "metadata": {},
   "outputs": [
    {
     "name": "stdout",
     "output_type": "stream",
     "text": [
      "goal pledged backers\n"
     ]
    }
   ],
   "source": [
    "\n",
    "variables = [ 'project_id', # id проекта\n",
    "              'category', # категория проекта\n",
    "              'goal', # сколько денег хотят собрать\n",
    "              'pledged', # сколько собрали\n",
    "              'state', # статус проекта\n",
    "              'backers' # количество человек, которые отправили деньги\n",
    "]\n",
    "print(variables[2], variables[3],variables[5])"
   ]
  }
 ],
 "metadata": {
  "kernelspec": {
   "display_name": "Python 3",
   "language": "python",
   "name": "python3"
  },
  "language_info": {
   "codemirror_mode": {
    "name": "ipython",
    "version": 3
   },
   "file_extension": ".py",
   "mimetype": "text/x-python",
   "name": "python",
   "nbconvert_exporter": "python",
   "pygments_lexer": "ipython3",
   "version": "3.11.9"
  }
 },
 "nbformat": 4,
 "nbformat_minor": 2
}
