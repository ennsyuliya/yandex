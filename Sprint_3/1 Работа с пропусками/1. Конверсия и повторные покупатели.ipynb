{
 "cells": [
  {
   "cell_type": "markdown",
   "metadata": {},
   "source": [
    "## task 1-1"
   ]
  },
  {
   "cell_type": "markdown",
   "metadata": {},
   "source": [
    "Рассчитайте конверсию визитов в покупки из рассылок и контекстной рекламы, сохраните значения в переменных email_conversion и context_conversion соответственно."
   ]
  },
  {
   "cell_type": "code",
   "execution_count": 1,
   "metadata": {},
   "outputs": [],
   "source": [
    "email_visits = 1000 # количество визитов из рассылок \n",
    "context_visits = 2500 # количество визитов из контекстной рекламы \n",
    "email_purchases = 50 # количество покупок из рассылок \n",
    "context_purchases = 100 # количество покупок из контекстной рекламы\n"
   ]
  },
  {
   "cell_type": "code",
   "execution_count": 2,
   "metadata": {},
   "outputs": [
    {
     "name": "stdout",
     "output_type": "stream",
     "text": [
      "Конверсия рассылок: 5%\n",
      "Конверсия контекстной рекламы: 4%\n"
     ]
    }
   ],
   "source": [
    "email_conversion = email_purchases/email_visits\n",
    "context_conversion = context_purchases/context_visits\n",
    "print('Конверсия рассылок: {:.0%}'.format(email_conversion)) \n",
    "print('Конверсия контекстной рекламы: {:.0%}'.format(context_conversion)) "
   ]
  },
  {
   "cell_type": "markdown",
   "metadata": {},
   "source": [
    "## task 1-2"
   ]
  },
  {
   "cell_type": "markdown",
   "metadata": {},
   "source": [
    "Продолжим автоматизировать труд маркетологов: научим Python сравнивать источники трафика и выбирать лучший. Если конверсия рассылок email_conversion больше конверсии контекстной рекламы context_conversion, выведите на экран: 'Вывод: рассылки эффективнее'. Если наоборот, то: 'Вывод: контекстная реклама эффективнее'. Не удаляйте из вывода результат предыдущей задачи."
   ]
  },
  {
   "cell_type": "code",
   "execution_count": 3,
   "metadata": {},
   "outputs": [
    {
     "name": "stdout",
     "output_type": "stream",
     "text": [
      "Конверсия рассылок: 5%\n",
      "Конверсия контекстной рекламы: 4%\n",
      "Вывод: рассылки эффективнее\n"
     ]
    }
   ],
   "source": [
    "email_conversion = email_purchases/email_visits\n",
    "context_conversion = context_purchases/context_visits\n",
    "print('Конверсия рассылок: {:.0%}'.format(email_conversion)) \n",
    "print('Конверсия контекстной рекламы: {:.0%}'.format(context_conversion))\n",
    "if  email_conversion > context_conversion:\n",
    "    print('Вывод: рассылки эффективнее')\n",
    "else:\n",
    "    print('Вывод: контекстная реклама эффективнее')\n"
   ]
  },
  {
   "cell_type": "markdown",
   "metadata": {},
   "source": [
    "## task 1-3"
   ]
  },
  {
   "cell_type": "markdown",
   "metadata": {},
   "source": [
    "3.Добавьте случай, когда конверсии равны. При равенстве конверсий выводите: 'Конверсии равны, пора смотреть другие метрики'."
   ]
  },
  {
   "cell_type": "code",
   "execution_count": 4,
   "metadata": {},
   "outputs": [
    {
     "name": "stdout",
     "output_type": "stream",
     "text": [
      "Конверсия рассылок: 5%\n",
      "Конверсия контекстной рекламы: 4%\n",
      "Вывод: рассылки эффективнее\n"
     ]
    }
   ],
   "source": [
    "email_conversion = email_purchases/email_visits\n",
    "context_conversion = context_purchases/context_visits\n",
    "print('Конверсия рассылок: {:.0%}'.format(email_conversion)) \n",
    "print('Конверсия контекстной рекламы: {:.0%}'.format(context_conversion))\n",
    "if  email_conversion > context_conversion:\n",
    "    print('Вывод: рассылки эффективнее')\n",
    "elif email_conversion == context_conversion:\n",
    "    print('Конверсии равны, пора смотреть другие метрики')\n",
    "else:\n",
    "    print('Вывод: контекстная реклама эффективнее')"
   ]
  },
  {
   "cell_type": "markdown",
   "metadata": {},
   "source": [
    "\n",
    "Измените значения переменных email_visits, context_visits, email_purchases, context_purchases так, чтобы получить вывод, что контекстная реклама эффективнее или что конверсии рассылок и контекстной рекламы равны."
   ]
  },
  {
   "cell_type": "code",
   "execution_count": 13,
   "metadata": {},
   "outputs": [
    {
     "name": "stdout",
     "output_type": "stream",
     "text": [
      "Конверсия рассылок: 5%\n",
      "Конверсия контекстной рекламы: 5%\n",
      "Конверсии равны, пора смотреть другие метрики\n"
     ]
    }
   ],
   "source": [
    "email_visits = 1000 # количество визитов из рассылок  \n",
    "context_visits = 2000 # количество визитов из контекстной рекламы \n",
    "email_purchases = 50 # количество покупок из рассылок \n",
    "context_purchases = 100 # количество покупок из контекстной рекламы \n",
    "email_conversion = email_purchases/email_visits\n",
    "context_conversion = context_purchases/context_visits\n",
    "print('Конверсия рассылок: {:.0%}'.format(email_conversion)) \n",
    "print('Конверсия контекстной рекламы: {:.0%}'.format(context_conversion))\n",
    "if  email_conversion > context_conversion:\n",
    "    print('Вывод: рассылки эффективнее')\n",
    "elif email_conversion == context_conversion:\n",
    "    print('Конверсии равны, пора смотреть другие метрики')\n",
    "else:\n",
    "    print('Вывод: контекстная реклама эффективнее')"
   ]
  },
  {
   "cell_type": "markdown",
   "metadata": {},
   "source": [
    "Вы уже умеете находить конверсию. Рассчитайте другую важную для бизнеса метрику — долю повторных покупателей.\n",
    "В переменной total посчитайте общее количество покупателей: сложите число пользователей, совершивших одну покупку, с числом тех, кто совершил две и более.\n",
    "Выведите результат в виде: 'Общее количество покупателей: ...'"
   ]
  },
  {
   "cell_type": "code",
   "execution_count": 9,
   "metadata": {},
   "outputs": [
    {
     "name": "stdout",
     "output_type": "stream",
     "text": [
      "Общее количество покупателей: 1021\n"
     ]
    }
   ],
   "source": [
    "\n",
    "first_purchase = 885 # количество пользователей, совершивших 1 покупку \n",
    "repeated_purchase = 136 # количество пользователей, совершивших 2 и более покупок \n",
    "total = first_purchase + repeated_purchase # общее количество покупателей \n",
    "print(f'Общее количество покупателей: {total}')"
   ]
  },
  {
   "cell_type": "markdown",
   "metadata": {},
   "source": [
    "Посчитайте долю повторных покупок как отношение repeated_purchase к total. Ответ положите в переменную repeated_purchase_part.\n",
    "Результат выведите на экран так: 'Доля повторных покупок равна ...%'. Процент отобразите в виде целого числа — с точностью ноль знаков после запятой."
   ]
  },
  {
   "cell_type": "code",
   "execution_count": 10,
   "metadata": {},
   "outputs": [
    {
     "name": "stdout",
     "output_type": "stream",
     "text": [
      "Доля повторных покупок равна: 13%\n"
     ]
    }
   ],
   "source": [
    "repeated_purchase_part= repeated_purchase/total\n",
    "print('Доля повторных покупок равна: {:.0%}'.format(repeated_purchase_part))\n"
   ]
  },
  {
   "cell_type": "markdown",
   "metadata": {},
   "source": [
    "Вам прислали таблицу со статистикой первичных и повторных покупок по источникам трафика. Прочитайте содержимое файла returned.csv и сохраните его в датафрейме purchases. Посчитайте общее число покупок для каждого источника трафика. Результат запишите в столбец 'total'. Выведите весь датафрейм на экран.\n",
    "Путь к файлу: /datasets/returned.csv"
   ]
  },
  {
   "cell_type": "code",
   "execution_count": 7,
   "metadata": {},
   "outputs": [
    {
     "name": "stderr",
     "output_type": "stream",
     "text": [
      "c:\\Users\\Enns\\anaconda3\\lib\\site-packages\\pandas\\core\\computation\\expressions.py:21: UserWarning: Pandas requires version '2.8.4' or newer of 'numexpr' (version '2.8.1' currently installed).\n",
      "  from pandas.core.computation.check import NUMEXPR_INSTALLED\n",
      "c:\\Users\\Enns\\anaconda3\\lib\\site-packages\\pandas\\core\\arrays\\masked.py:60: UserWarning: Pandas requires version '1.3.6' or newer of 'bottleneck' (version '1.3.4' currently installed).\n",
      "  from pandas.core import (\n"
     ]
    }
   ],
   "source": [
    "import pandas as pd"
   ]
  },
  {
   "cell_type": "code",
   "execution_count": 8,
   "metadata": {},
   "outputs": [],
   "source": [
    "purchases = pd.read_csv('/datasets/returned.csv') \n",
    "purchases['total'] = purchases['first'] + purchases['repeated'] \n",
    "print(purchases.head())"
   ]
  },
  {
   "cell_type": "markdown",
   "metadata": {},
   "source": [
    "Рассчитайте конверсию визитов в покупки из рассылок и контекстной рекламы, сохраните значения в переменных email_conversion и context_conversion соответственно.\n",
    "Результат выведите на экран так:\n",
    "\n",
    "Конверсия рассылок: ...%\n",
    "\n",
    "Конверсия контекстной рекламы: ...% "
   ]
  },
  {
   "cell_type": "code",
   "execution_count": null,
   "metadata": {},
   "outputs": [],
   "source": [
    "purchases['repeated_share'] = purchases['repeated'] / purchases['total'] # отношение повторных покупок ко всем покупкам\n",
    "\n",
    "print(purchases.head())"
   ]
  },
  {
   "cell_type": "markdown",
   "metadata": {},
   "source": [
    "9.\n",
    "Постройте рейтинг источников трафика по доле повторных покупок. Отсортируйте датафрейм purchases по убыванию значений столбца 'repeated_share'. Выражение напишите в скобках функции print(), чтобы вывести результат на экран."
   ]
  },
  {
   "cell_type": "code",
   "execution_count": null,
   "metadata": {},
   "outputs": [],
   "source": [
    "import pandas as pd\n",
    "purchases = pd.read_csv('/datasets/returned.csv')\n",
    "purchases['total'] = purchases['first'] + purchases['repeated']\n",
    "purchases['repeated_share'] = purchases['repeated'] / purchases['total']\n",
    "print(purchases.sort_values(by='repeated_share', ascending=False))"
   ]
  }
 ],
 "metadata": {
  "kernelspec": {
   "display_name": "base",
   "language": "python",
   "name": "python3"
  },
  "language_info": {
   "codemirror_mode": {
    "name": "ipython",
    "version": 3
   },
   "file_extension": ".py",
   "mimetype": "text/x-python",
   "name": "python",
   "nbconvert_exporter": "python",
   "pygments_lexer": "ipython3",
   "version": "3.9.12"
  }
 },
 "nbformat": 4,
 "nbformat_minor": 2
}
