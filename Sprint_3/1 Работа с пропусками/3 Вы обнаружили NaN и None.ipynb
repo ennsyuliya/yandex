{
 "cells": [
  {
   "cell_type": "markdown",
   "metadata": {},
   "source": [
    "### 1\n",
    "\n",
    "Восстановите справедливость: верните Рону его факультет, заменив значение NaN на 'Гриффиндор' методом fillna(). \n",
    "\n",
    "Выведите на экран таблицу hogwarts_points."
   ]
  },
  {
   "cell_type": "code",
   "execution_count": 1,
   "metadata": {},
   "outputs": [],
   "source": [
    "import pandas as pd"
   ]
  },
  {
   "cell_type": "code",
   "execution_count": 2,
   "metadata": {},
   "outputs": [
    {
     "name": "stdout",
     "output_type": "stream",
     "text": [
      "  faculty_name      student_name  points\n",
      "0   Гриффиндор      Гарри Поттер      15\n",
      "1     Слизерин      Драко Малфой      28\n",
      "2    Когтевран    Полумна Лавгуд      10\n",
      "3   Гриффиндор         Рон Уизли       5\n",
      "4    Пуффендуй    Седрик Диггори      17\n",
      "5   Гриффиндор  Невилл Долгопупс      12\n"
     ]
    }
   ],
   "source": [
    "hogwarts_points = pd.read_csv('./hogwarts_points.csv')\n",
    "hogwarts_points['faculty_name'] = hogwarts_points['faculty_name'].fillna('Гриффиндор')\n",
    "print(hogwarts_points)"
   ]
  },
  {
   "cell_type": "markdown",
   "metadata": {},
   "source": [
    "### 2\n",
    "\n",
    "Измените код, чтобы результат приобрёл такой вид:\n",
    "\n",
    "Сумма баллов учеников: # сумма значений столбца 'points'\n",
    "\n",
    "Сумма баллов факультетов: # сумма баллов при группировке по факультетам\n",
    "\n",
    "Кубок получает # название факультета "
   ]
  },
  {
   "cell_type": "code",
   "execution_count": 3,
   "metadata": {},
   "outputs": [
    {
     "name": "stdout",
     "output_type": "stream",
     "text": [
      "Сумма баллов учеников: 87\n",
      "Сумма баллов факультетов: faculty_name\n",
      "Гриффиндор    32\n",
      "Когтевран     10\n",
      "Пуффендуй     17\n",
      "Слизерин      28\n",
      "Name: points, dtype: int64\n",
      "Кубок получает: 32\n",
      "Кубок получает: Гриффиндор\n"
     ]
    }
   ],
   "source": [
    "#Сумма баллов учеников: # сумма значений столбца 'points'\n",
    "print('Сумма баллов учеников:', hogwarts_points['points'].sum())\n",
    "\n",
    "#Сумма баллов факультетов: # сумма баллов при группировке по факультетам\n",
    "print('Сумма баллов факультетов:', hogwarts_points.groupby('faculty_name')['points'].sum())\n",
    "\n",
    "#Кубок получает # название факультета \n",
    "print('Кубок получает:', hogwarts_points.groupby('faculty_name')['points'].sum().max())\n",
    "print('Кубок получает:', hogwarts_points.groupby('faculty_name')['points'].sum().idxmax())\n"
   ]
  },
  {
   "cell_type": "markdown",
   "metadata": {},
   "source": [
    "### 3\n",
    "\n",
    "Применим полученные в Хогвартсе знания к реальной задаче. Возьмём источники трафика Яндекс.Маркета и рассчитаем конверсию.\n",
    "Найдите количество визитов из каждого источника трафика, результат сохраните в переменной visits и выведите на экран."
   ]
  },
  {
   "cell_type": "code",
   "execution_count": 4,
   "metadata": {},
   "outputs": [
    {
     "data": {
      "text/html": [
       "<div>\n",
       "<style scoped>\n",
       "    .dataframe tbody tr th:only-of-type {\n",
       "        vertical-align: middle;\n",
       "    }\n",
       "\n",
       "    .dataframe tbody tr th {\n",
       "        vertical-align: top;\n",
       "    }\n",
       "\n",
       "    .dataframe thead th {\n",
       "        text-align: right;\n",
       "    }\n",
       "</style>\n",
       "<table border=\"1\" class=\"dataframe\">\n",
       "  <thead>\n",
       "    <tr style=\"text-align: right;\">\n",
       "      <th></th>\n",
       "      <th>user_id</th>\n",
       "      <th>source</th>\n",
       "      <th>email</th>\n",
       "      <th>purchase</th>\n",
       "    </tr>\n",
       "  </thead>\n",
       "  <tbody>\n",
       "    <tr>\n",
       "      <th>0</th>\n",
       "      <td>7141786820</td>\n",
       "      <td>other</td>\n",
       "      <td>NaN</td>\n",
       "      <td>0</td>\n",
       "    </tr>\n",
       "    <tr>\n",
       "      <th>1</th>\n",
       "      <td>5644686960</td>\n",
       "      <td>email</td>\n",
       "      <td>c129aa540a</td>\n",
       "      <td>0</td>\n",
       "    </tr>\n",
       "    <tr>\n",
       "      <th>2</th>\n",
       "      <td>1914055396</td>\n",
       "      <td>context</td>\n",
       "      <td>NaN</td>\n",
       "      <td>0</td>\n",
       "    </tr>\n",
       "    <tr>\n",
       "      <th>3</th>\n",
       "      <td>4099355752</td>\n",
       "      <td>other</td>\n",
       "      <td>NaN</td>\n",
       "      <td>0</td>\n",
       "    </tr>\n",
       "    <tr>\n",
       "      <th>4</th>\n",
       "      <td>6032477554</td>\n",
       "      <td>context</td>\n",
       "      <td>NaN</td>\n",
       "      <td>1</td>\n",
       "    </tr>\n",
       "  </tbody>\n",
       "</table>\n",
       "</div>"
      ],
      "text/plain": [
       "      user_id   source       email  purchase\n",
       "0  7141786820    other         NaN         0\n",
       "1  5644686960    email  c129aa540a         0\n",
       "2  1914055396  context         NaN         0\n",
       "3  4099355752    other         NaN         0\n",
       "4  6032477554  context         NaN         1"
      ]
     },
     "execution_count": 4,
     "metadata": {},
     "output_type": "execute_result"
    }
   ],
   "source": [
    "logs = pd.read_csv('./logs.csv')\n",
    "logs.head()"
   ]
  },
  {
   "cell_type": "code",
   "execution_count": 5,
   "metadata": {},
   "outputs": [
    {
     "name": "stdout",
     "output_type": "stream",
     "text": [
      "source\n",
      "context     52032\n",
      "email       12279\n",
      "other      133834\n",
      "undef         181\n",
      "Name: user_id, dtype: int64\n"
     ]
    }
   ],
   "source": [
    "visits =  logs.groupby('source')['user_id'].count()\n",
    "print(visits)"
   ]
  },
  {
   "cell_type": "markdown",
   "metadata": {},
   "source": [
    "### 4\n",
    "\n",
    "Посчитайте количество совершённых покупок для каждого источника трафика. Результат сохраните в переменной purchase и выведите на экран."
   ]
  },
  {
   "cell_type": "code",
   "execution_count": 19,
   "metadata": {},
   "outputs": [
    {
     "name": "stdout",
     "output_type": "stream",
     "text": [
      "source\n",
      "context    3029\n",
      "email       913\n",
      "other      8041\n",
      "undef        12\n",
      "Name: purchase, dtype: int64\n"
     ]
    }
   ],
   "source": [
    "purchase = logs.groupby('source')['purchase'].sum()\n",
    "print(purchase)"
   ]
  },
  {
   "cell_type": "markdown",
   "metadata": {},
   "source": [
    "### 5\n",
    "\n",
    "Посчитайте конверсию по каждому источнику трафика, результат сохраните в переменной conversion и выведите на экран."
   ]
  },
  {
   "cell_type": "code",
   "execution_count": 24,
   "metadata": {},
   "outputs": [
    {
     "name": "stdout",
     "output_type": "stream",
     "text": [
      "source\n",
      "context    5.821418\n",
      "email      7.435459\n",
      "other      6.008189\n",
      "undef      6.629834\n",
      "dtype: float64\n"
     ]
    }
   ],
   "source": [
    "conversion = purchase/visits * 100\n",
    "print(conversion)"
   ]
  }
 ],
 "metadata": {
  "kernelspec": {
   "display_name": "Python 3",
   "language": "python",
   "name": "python3"
  },
  "language_info": {
   "codemirror_mode": {
    "name": "ipython",
    "version": 3
   },
   "file_extension": ".py",
   "mimetype": "text/x-python",
   "name": "python",
   "nbconvert_exporter": "python",
   "pygments_lexer": "ipython3",
   "version": "3.11.9"
  }
 },
 "nbformat": 4,
 "nbformat_minor": 2
}
