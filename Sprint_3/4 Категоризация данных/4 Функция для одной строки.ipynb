{
 "cells": [
  {
   "cell_type": "code",
   "execution_count": 1,
   "metadata": {},
   "outputs": [],
   "source": [
    "import pandas as pd"
   ]
  },
  {
   "cell_type": "markdown",
   "metadata": {},
   "source": [
    "### 1"
   ]
  },
  {
   "cell_type": "markdown",
   "metadata": {},
   "source": [
    "\n",
    "Прочитайте файл с отзывами, размещённый по адресу: /datasets/support_log_grouped.csv\n",
    "Результат выведите на экран."
   ]
  },
  {
   "cell_type": "code",
   "execution_count": 2,
   "metadata": {},
   "outputs": [
    {
     "data": {
      "text/html": [
       "<div>\n",
       "<style scoped>\n",
       "    .dataframe tbody tr th:only-of-type {\n",
       "        vertical-align: middle;\n",
       "    }\n",
       "\n",
       "    .dataframe tbody tr th {\n",
       "        vertical-align: top;\n",
       "    }\n",
       "\n",
       "    .dataframe thead th {\n",
       "        text-align: right;\n",
       "    }\n",
       "</style>\n",
       "<table border=\"1\" class=\"dataframe\">\n",
       "  <thead>\n",
       "    <tr style=\"text-align: right;\">\n",
       "      <th></th>\n",
       "      <th>type_id</th>\n",
       "      <th>user_id</th>\n",
       "      <th>timestamp</th>\n",
       "      <th>alert_group</th>\n",
       "      <th>importance</th>\n",
       "    </tr>\n",
       "  </thead>\n",
       "  <tbody>\n",
       "    <tr>\n",
       "      <th>0</th>\n",
       "      <td>1</td>\n",
       "      <td>311</td>\n",
       "      <td>311</td>\n",
       "      <td>высокий</td>\n",
       "      <td>1</td>\n",
       "    </tr>\n",
       "    <tr>\n",
       "      <th>1</th>\n",
       "      <td>2</td>\n",
       "      <td>302</td>\n",
       "      <td>302</td>\n",
       "      <td>высокий</td>\n",
       "      <td>0</td>\n",
       "    </tr>\n",
       "    <tr>\n",
       "      <th>2</th>\n",
       "      <td>3</td>\n",
       "      <td>606</td>\n",
       "      <td>606</td>\n",
       "      <td>критичный</td>\n",
       "      <td>0</td>\n",
       "    </tr>\n",
       "    <tr>\n",
       "      <th>3</th>\n",
       "      <td>4</td>\n",
       "      <td>312</td>\n",
       "      <td>312</td>\n",
       "      <td>высокий</td>\n",
       "      <td>1</td>\n",
       "    </tr>\n",
       "    <tr>\n",
       "      <th>4</th>\n",
       "      <td>5</td>\n",
       "      <td>586</td>\n",
       "      <td>586</td>\n",
       "      <td>критичный</td>\n",
       "      <td>1</td>\n",
       "    </tr>\n",
       "    <tr>\n",
       "      <th>5</th>\n",
       "      <td>6</td>\n",
       "      <td>303</td>\n",
       "      <td>303</td>\n",
       "      <td>высокий</td>\n",
       "      <td>1</td>\n",
       "    </tr>\n",
       "    <tr>\n",
       "      <th>6</th>\n",
       "      <td>7</td>\n",
       "      <td>283</td>\n",
       "      <td>283</td>\n",
       "      <td>средний</td>\n",
       "      <td>1</td>\n",
       "    </tr>\n",
       "    <tr>\n",
       "      <th>7</th>\n",
       "      <td>8</td>\n",
       "      <td>297</td>\n",
       "      <td>297</td>\n",
       "      <td>средний</td>\n",
       "      <td>0</td>\n",
       "    </tr>\n",
       "  </tbody>\n",
       "</table>\n",
       "</div>"
      ],
      "text/plain": [
       "   type_id  user_id  timestamp alert_group  importance\n",
       "0        1      311        311     высокий           1\n",
       "1        2      302        302     высокий           0\n",
       "2        3      606        606   критичный           0\n",
       "3        4      312        312     высокий           1\n",
       "4        5      586        586   критичный           1\n",
       "5        6      303        303     высокий           1\n",
       "6        7      283        283     средний           1\n",
       "7        8      297        297     средний           0"
      ]
     },
     "execution_count": 2,
     "metadata": {},
     "output_type": "execute_result"
    }
   ],
   "source": [
    "support_log_grouped = pd.read_csv('./support_log_grouped.csv')\n",
    "support_log_grouped"
   ]
  },
  {
   "cell_type": "markdown",
   "metadata": {},
   "source": [
    "### 2"
   ]
  },
  {
   "cell_type": "markdown",
   "metadata": {},
   "source": [
    "Напишите функцию alert_group_importance(row), работающую в соответствии со следующей логикой:\n",
    "\n",
    "Если приоритет 'alert_group' средний, а важность 'importance' оценена в единицу, возвращать команду для отдела поддержки: 'обратить внимание';\n",
    "\n",
    "Если приоритет высокий, а важность — единица, возвращать: 'высокий риск';\n",
    "\n",
    "Если приоритет критичный, а важность — единица, возвращать: 'блокер';\n",
    "\n",
    "Во всех остальных случаях выводить: 'в порядке очереди'.\n",
    "\n",
    "Проверьте работоспособность функции для разных значений.\n",
    "\n",
    "Чтобы тренажёр принял решение, оставьте в переменной row_values значение ['высокий', 1]."
   ]
  },
  {
   "cell_type": "code",
   "execution_count": 3,
   "metadata": {},
   "outputs": [],
   "source": [
    "def alert_group_importance(row): \n",
    "\n",
    "    importance = row['importance']\n",
    "    alert_group = row['alert_group']   \n",
    "\n",
    "    if importance == 1:\n",
    "        if alert_group == 'средний':\n",
    "            return 'обратить внимание'\n",
    "        elif alert_group == 'высокий':\n",
    "            return 'высокий риск'\n",
    "        else: \n",
    "            return 'блокер' \n",
    "    else: \n",
    "        return 'в порядке очереди'"
   ]
  },
  {
   "cell_type": "markdown",
   "metadata": {},
   "source": [
    "### 3"
   ]
  },
  {
   "cell_type": "markdown",
   "metadata": {},
   "source": [
    "Создайте новый столбец 'importance_status' и сохраните в нём результаты работы функции alert_group_importance(). \n",
    "\n",
    "Результат выведите на экран."
   ]
  },
  {
   "cell_type": "code",
   "execution_count": 4,
   "metadata": {},
   "outputs": [
    {
     "data": {
      "text/html": [
       "<div>\n",
       "<style scoped>\n",
       "    .dataframe tbody tr th:only-of-type {\n",
       "        vertical-align: middle;\n",
       "    }\n",
       "\n",
       "    .dataframe tbody tr th {\n",
       "        vertical-align: top;\n",
       "    }\n",
       "\n",
       "    .dataframe thead th {\n",
       "        text-align: right;\n",
       "    }\n",
       "</style>\n",
       "<table border=\"1\" class=\"dataframe\">\n",
       "  <thead>\n",
       "    <tr style=\"text-align: right;\">\n",
       "      <th></th>\n",
       "      <th>type_id</th>\n",
       "      <th>user_id</th>\n",
       "      <th>timestamp</th>\n",
       "      <th>alert_group</th>\n",
       "      <th>importance</th>\n",
       "      <th>importance_status</th>\n",
       "    </tr>\n",
       "  </thead>\n",
       "  <tbody>\n",
       "    <tr>\n",
       "      <th>0</th>\n",
       "      <td>1</td>\n",
       "      <td>311</td>\n",
       "      <td>311</td>\n",
       "      <td>высокий</td>\n",
       "      <td>1</td>\n",
       "      <td>высокий риск</td>\n",
       "    </tr>\n",
       "    <tr>\n",
       "      <th>1</th>\n",
       "      <td>2</td>\n",
       "      <td>302</td>\n",
       "      <td>302</td>\n",
       "      <td>высокий</td>\n",
       "      <td>0</td>\n",
       "      <td>в порядке очереди</td>\n",
       "    </tr>\n",
       "    <tr>\n",
       "      <th>2</th>\n",
       "      <td>3</td>\n",
       "      <td>606</td>\n",
       "      <td>606</td>\n",
       "      <td>критичный</td>\n",
       "      <td>0</td>\n",
       "      <td>в порядке очереди</td>\n",
       "    </tr>\n",
       "    <tr>\n",
       "      <th>3</th>\n",
       "      <td>4</td>\n",
       "      <td>312</td>\n",
       "      <td>312</td>\n",
       "      <td>высокий</td>\n",
       "      <td>1</td>\n",
       "      <td>высокий риск</td>\n",
       "    </tr>\n",
       "    <tr>\n",
       "      <th>4</th>\n",
       "      <td>5</td>\n",
       "      <td>586</td>\n",
       "      <td>586</td>\n",
       "      <td>критичный</td>\n",
       "      <td>1</td>\n",
       "      <td>блокер</td>\n",
       "    </tr>\n",
       "    <tr>\n",
       "      <th>5</th>\n",
       "      <td>6</td>\n",
       "      <td>303</td>\n",
       "      <td>303</td>\n",
       "      <td>высокий</td>\n",
       "      <td>1</td>\n",
       "      <td>высокий риск</td>\n",
       "    </tr>\n",
       "    <tr>\n",
       "      <th>6</th>\n",
       "      <td>7</td>\n",
       "      <td>283</td>\n",
       "      <td>283</td>\n",
       "      <td>средний</td>\n",
       "      <td>1</td>\n",
       "      <td>обратить внимание</td>\n",
       "    </tr>\n",
       "    <tr>\n",
       "      <th>7</th>\n",
       "      <td>8</td>\n",
       "      <td>297</td>\n",
       "      <td>297</td>\n",
       "      <td>средний</td>\n",
       "      <td>0</td>\n",
       "      <td>в порядке очереди</td>\n",
       "    </tr>\n",
       "  </tbody>\n",
       "</table>\n",
       "</div>"
      ],
      "text/plain": [
       "   type_id  user_id  timestamp alert_group  importance  importance_status\n",
       "0        1      311        311     высокий           1       высокий риск\n",
       "1        2      302        302     высокий           0  в порядке очереди\n",
       "2        3      606        606   критичный           0  в порядке очереди\n",
       "3        4      312        312     высокий           1       высокий риск\n",
       "4        5      586        586   критичный           1             блокер\n",
       "5        6      303        303     высокий           1       высокий риск\n",
       "6        7      283        283     средний           1  обратить внимание\n",
       "7        8      297        297     средний           0  в порядке очереди"
      ]
     },
     "execution_count": 4,
     "metadata": {},
     "output_type": "execute_result"
    }
   ],
   "source": [
    "support_log_grouped['importance_status'] = support_log_grouped.apply(alert_group_importance, axis=1)\n",
    "support_log_grouped"
   ]
  },
  {
   "cell_type": "markdown",
   "metadata": {},
   "source": [
    "### 4"
   ]
  },
  {
   "cell_type": "markdown",
   "metadata": {},
   "source": [
    "Узнайте, сколько разных статусов в столбце 'importance_status'. Результат выведите на экран."
   ]
  },
  {
   "cell_type": "code",
   "execution_count": 5,
   "metadata": {},
   "outputs": [
    {
     "data": {
      "text/plain": [
       "importance_status\n",
       "высокий риск         3\n",
       "в порядке очереди    3\n",
       "блокер               1\n",
       "обратить внимание    1\n",
       "Name: count, dtype: int64"
      ]
     },
     "execution_count": 5,
     "metadata": {},
     "output_type": "execute_result"
    }
   ],
   "source": [
    "\n",
    "support_log_grouped['importance_status'].value_counts()"
   ]
  }
 ],
 "metadata": {
  "kernelspec": {
   "display_name": "Python 3",
   "language": "python",
   "name": "python3"
  },
  "language_info": {
   "codemirror_mode": {
    "name": "ipython",
    "version": 3
   },
   "file_extension": ".py",
   "mimetype": "text/x-python",
   "name": "python",
   "nbconvert_exporter": "python",
   "pygments_lexer": "ipython3",
   "version": "3.11.9"
  }
 },
 "nbformat": 4,
 "nbformat_minor": 2
}
