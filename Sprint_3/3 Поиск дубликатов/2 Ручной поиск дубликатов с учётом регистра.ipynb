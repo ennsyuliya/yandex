{
 "cells": [
  {
   "cell_type": "code",
   "execution_count": 1,
   "metadata": {},
   "outputs": [],
   "source": [
    "import pandas as pd"
   ]
  },
  {
   "cell_type": "markdown",
   "metadata": {},
   "source": [
    "### 1"
   ]
  },
  {
   "cell_type": "markdown",
   "metadata": {},
   "source": [
    "Переведите названия моделей в нижний регистр методом str.lower(). \n",
    "\n",
    "Сохраните их в новом столбце 'item_lowercase'.\n",
    "\n",
    "Распечатайте таблицу после преобразования."
   ]
  },
  {
   "cell_type": "code",
   "execution_count": 10,
   "metadata": {},
   "outputs": [],
   "source": [
    "stock = pd.read_csv('./stock_upd.csv')"
   ]
  },
  {
   "cell_type": "code",
   "execution_count": 11,
   "metadata": {},
   "outputs": [
    {
     "data": {
      "text/html": [
       "<div>\n",
       "<style scoped>\n",
       "    .dataframe tbody tr th:only-of-type {\n",
       "        vertical-align: middle;\n",
       "    }\n",
       "\n",
       "    .dataframe tbody tr th {\n",
       "        vertical-align: top;\n",
       "    }\n",
       "\n",
       "    .dataframe thead th {\n",
       "        text-align: right;\n",
       "    }\n",
       "</style>\n",
       "<table border=\"1\" class=\"dataframe\">\n",
       "  <thead>\n",
       "    <tr style=\"text-align: right;\">\n",
       "      <th></th>\n",
       "      <th>id</th>\n",
       "      <th>item</th>\n",
       "      <th>count</th>\n",
       "      <th>item_lowercase</th>\n",
       "    </tr>\n",
       "  </thead>\n",
       "  <tbody>\n",
       "    <tr>\n",
       "      <th>0</th>\n",
       "      <td>100480924</td>\n",
       "      <td>Смартфон Xiaomi Redmi 6A 16GB</td>\n",
       "      <td>44</td>\n",
       "      <td>смартфон xiaomi redmi 6a 16gb</td>\n",
       "    </tr>\n",
       "    <tr>\n",
       "      <th>1</th>\n",
       "      <td>100480938</td>\n",
       "      <td>Смартфон Samsung Galaxy A30 32GB</td>\n",
       "      <td>49</td>\n",
       "      <td>смартфон samsung galaxy a30 32gb</td>\n",
       "    </tr>\n",
       "    <tr>\n",
       "      <th>2</th>\n",
       "      <td>100480952</td>\n",
       "      <td>смартфон Samsung Galaxy A30 32gb</td>\n",
       "      <td>11</td>\n",
       "      <td>смартфон samsung galaxy a30 32gb</td>\n",
       "    </tr>\n",
       "    <tr>\n",
       "      <th>3</th>\n",
       "      <td>100480959</td>\n",
       "      <td>Смартфон HUAWEI P30 lite</td>\n",
       "      <td>38</td>\n",
       "      <td>смартфон huawei p30 lite</td>\n",
       "    </tr>\n",
       "    <tr>\n",
       "      <th>4</th>\n",
       "      <td>100480975</td>\n",
       "      <td>Смартфон Apple iPhone Xr 64gb</td>\n",
       "      <td>10</td>\n",
       "      <td>смартфон apple iphone xr 64gb</td>\n",
       "    </tr>\n",
       "    <tr>\n",
       "      <th>5</th>\n",
       "      <td>100480988</td>\n",
       "      <td>Смартфон Honor 8X 64GB</td>\n",
       "      <td>64</td>\n",
       "      <td>смартфон honor 8x 64gb</td>\n",
       "    </tr>\n",
       "    <tr>\n",
       "      <th>6</th>\n",
       "      <td>100481020</td>\n",
       "      <td>Смартфон Apple iPhone Xr 64GB</td>\n",
       "      <td>19</td>\n",
       "      <td>смартфон apple iphone xr 64gb</td>\n",
       "    </tr>\n",
       "  </tbody>\n",
       "</table>\n",
       "</div>"
      ],
      "text/plain": [
       "          id                              item  count  \\\n",
       "0  100480924     Смартфон Xiaomi Redmi 6A 16GB     44   \n",
       "1  100480938  Смартфон Samsung Galaxy A30 32GB     49   \n",
       "2  100480952  смартфон Samsung Galaxy A30 32gb     11   \n",
       "3  100480959          Смартфон HUAWEI P30 lite     38   \n",
       "4  100480975     Смартфон Apple iPhone Xr 64gb     10   \n",
       "5  100480988            Смартфон Honor 8X 64GB     64   \n",
       "6  100481020     Смартфон Apple iPhone Xr 64GB     19   \n",
       "\n",
       "                     item_lowercase  \n",
       "0     смартфон xiaomi redmi 6a 16gb  \n",
       "1  смартфон samsung galaxy a30 32gb  \n",
       "2  смартфон samsung galaxy a30 32gb  \n",
       "3          смартфон huawei p30 lite  \n",
       "4     смартфон apple iphone xr 64gb  \n",
       "5            смартфон honor 8x 64gb  \n",
       "6     смартфон apple iphone xr 64gb  "
      ]
     },
     "execution_count": 11,
     "metadata": {},
     "output_type": "execute_result"
    }
   ],
   "source": [
    "stock['item_lowercase'] = stock['item'].str.lower() \n",
    "stock"
   ]
  },
  {
   "cell_type": "markdown",
   "metadata": {},
   "source": [
    "### 2"
   ]
  },
  {
   "cell_type": "markdown",
   "metadata": {},
   "source": [
    "В столбце 'item_lowercase' посчитайте количество дублей для каждой модели телефона методом value_counts(). \n",
    "\n",
    "Выведите результат на экран."
   ]
  },
  {
   "cell_type": "code",
   "execution_count": 12,
   "metadata": {},
   "outputs": [
    {
     "name": "stdout",
     "output_type": "stream",
     "text": [
      "item_lowercase\n",
      "смартфон samsung galaxy a30 32gb    2\n",
      "смартфон apple iphone xr 64gb       2\n",
      "смартфон xiaomi redmi 6a 16gb       1\n",
      "смартфон huawei p30 lite            1\n",
      "смартфон honor 8x 64gb              1\n",
      "Name: count, dtype: int64\n"
     ]
    }
   ],
   "source": [
    "print(stock['item_lowercase'].value_counts())"
   ]
  },
  {
   "cell_type": "markdown",
   "metadata": {},
   "source": [
    "### 3"
   ]
  },
  {
   "cell_type": "markdown",
   "metadata": {},
   "source": [
    "\n",
    "Сохраните количество телефонов Apple в переменной apple. Выведите значение переменной на экран."
   ]
  },
  {
   "cell_type": "code",
   "execution_count": 13,
   "metadata": {},
   "outputs": [
    {
     "data": {
      "text/plain": [
       "np.int64(29)"
      ]
     },
     "execution_count": 13,
     "metadata": {},
     "output_type": "execute_result"
    }
   ],
   "source": [
    "apple = stock[stock['item_lowercase'] == 'смартфон apple iphone xr 64gb']['count'].sum() \n",
    "apple"
   ]
  },
  {
   "cell_type": "markdown",
   "metadata": {},
   "source": [
    "### 4"
   ]
  },
  {
   "cell_type": "markdown",
   "metadata": {},
   "source": [
    "\n",
    "Сохраните количество телефонов Samsung в переменной samsung. Закомментируйте вывод предыдущей задачи и выведите samsung на экран."
   ]
  },
  {
   "cell_type": "code",
   "execution_count": 14,
   "metadata": {},
   "outputs": [
    {
     "data": {
      "text/plain": [
       "np.int64(60)"
      ]
     },
     "execution_count": 14,
     "metadata": {},
     "output_type": "execute_result"
    }
   ],
   "source": [
    "sumsung = stock[stock['item_lowercase'] == 'смартфон samsung galaxy a30 32gb']['count'].sum() \n",
    "sumsung"
   ]
  },
  {
   "cell_type": "markdown",
   "metadata": {},
   "source": [
    "### 5"
   ]
  },
  {
   "cell_type": "markdown",
   "metadata": {},
   "source": [
    "Удалите дубликаты в столбце 'item_lowercase'. Закомментируйте вывод предыдущей задачи и распечатайте таблицу stock."
   ]
  },
  {
   "cell_type": "code",
   "execution_count": 15,
   "metadata": {},
   "outputs": [
    {
     "data": {
      "text/html": [
       "<div>\n",
       "<style scoped>\n",
       "    .dataframe tbody tr th:only-of-type {\n",
       "        vertical-align: middle;\n",
       "    }\n",
       "\n",
       "    .dataframe tbody tr th {\n",
       "        vertical-align: top;\n",
       "    }\n",
       "\n",
       "    .dataframe thead th {\n",
       "        text-align: right;\n",
       "    }\n",
       "</style>\n",
       "<table border=\"1\" class=\"dataframe\">\n",
       "  <thead>\n",
       "    <tr style=\"text-align: right;\">\n",
       "      <th></th>\n",
       "      <th>id</th>\n",
       "      <th>item</th>\n",
       "      <th>count</th>\n",
       "      <th>item_lowercase</th>\n",
       "    </tr>\n",
       "  </thead>\n",
       "  <tbody>\n",
       "    <tr>\n",
       "      <th>0</th>\n",
       "      <td>100480924</td>\n",
       "      <td>Смартфон Xiaomi Redmi 6A 16GB</td>\n",
       "      <td>44</td>\n",
       "      <td>смартфон xiaomi redmi 6a 16gb</td>\n",
       "    </tr>\n",
       "    <tr>\n",
       "      <th>1</th>\n",
       "      <td>100480938</td>\n",
       "      <td>Смартфон Samsung Galaxy A30 32GB</td>\n",
       "      <td>49</td>\n",
       "      <td>смартфон samsung galaxy a30 32gb</td>\n",
       "    </tr>\n",
       "    <tr>\n",
       "      <th>2</th>\n",
       "      <td>100480952</td>\n",
       "      <td>смартфон Samsung Galaxy A30 32gb</td>\n",
       "      <td>11</td>\n",
       "      <td>NaN</td>\n",
       "    </tr>\n",
       "    <tr>\n",
       "      <th>3</th>\n",
       "      <td>100480959</td>\n",
       "      <td>Смартфон HUAWEI P30 lite</td>\n",
       "      <td>38</td>\n",
       "      <td>смартфон huawei p30 lite</td>\n",
       "    </tr>\n",
       "    <tr>\n",
       "      <th>4</th>\n",
       "      <td>100480975</td>\n",
       "      <td>Смартфон Apple iPhone Xr 64gb</td>\n",
       "      <td>10</td>\n",
       "      <td>смартфон apple iphone xr 64gb</td>\n",
       "    </tr>\n",
       "    <tr>\n",
       "      <th>5</th>\n",
       "      <td>100480988</td>\n",
       "      <td>Смартфон Honor 8X 64GB</td>\n",
       "      <td>64</td>\n",
       "      <td>смартфон honor 8x 64gb</td>\n",
       "    </tr>\n",
       "    <tr>\n",
       "      <th>6</th>\n",
       "      <td>100481020</td>\n",
       "      <td>Смартфон Apple iPhone Xr 64GB</td>\n",
       "      <td>19</td>\n",
       "      <td>NaN</td>\n",
       "    </tr>\n",
       "  </tbody>\n",
       "</table>\n",
       "</div>"
      ],
      "text/plain": [
       "          id                              item  count  \\\n",
       "0  100480924     Смартфон Xiaomi Redmi 6A 16GB     44   \n",
       "1  100480938  Смартфон Samsung Galaxy A30 32GB     49   \n",
       "2  100480952  смартфон Samsung Galaxy A30 32gb     11   \n",
       "3  100480959          Смартфон HUAWEI P30 lite     38   \n",
       "4  100480975     Смартфон Apple iPhone Xr 64gb     10   \n",
       "5  100480988            Смартфон Honor 8X 64GB     64   \n",
       "6  100481020     Смартфон Apple iPhone Xr 64GB     19   \n",
       "\n",
       "                     item_lowercase  \n",
       "0     смартфон xiaomi redmi 6a 16gb  \n",
       "1  смартфон samsung galaxy a30 32gb  \n",
       "2                               NaN  \n",
       "3          смартфон huawei p30 lite  \n",
       "4     смартфон apple iphone xr 64gb  \n",
       "5            смартфон honor 8x 64gb  \n",
       "6                               NaN  "
      ]
     },
     "execution_count": 15,
     "metadata": {},
     "output_type": "execute_result"
    }
   ],
   "source": [
    "stock['item_lowercase'] = stock['item_lowercase'].drop_duplicates()\n",
    "stock"
   ]
  },
  {
   "cell_type": "markdown",
   "metadata": {},
   "source": [
    "### 6"
   ]
  },
  {
   "cell_type": "markdown",
   "metadata": {},
   "source": [
    "Удалите пропуски. Выведите на экран обновлённую таблицу stock."
   ]
  },
  {
   "cell_type": "code",
   "execution_count": 16,
   "metadata": {},
   "outputs": [
    {
     "data": {
      "text/html": [
       "<div>\n",
       "<style scoped>\n",
       "    .dataframe tbody tr th:only-of-type {\n",
       "        vertical-align: middle;\n",
       "    }\n",
       "\n",
       "    .dataframe tbody tr th {\n",
       "        vertical-align: top;\n",
       "    }\n",
       "\n",
       "    .dataframe thead th {\n",
       "        text-align: right;\n",
       "    }\n",
       "</style>\n",
       "<table border=\"1\" class=\"dataframe\">\n",
       "  <thead>\n",
       "    <tr style=\"text-align: right;\">\n",
       "      <th></th>\n",
       "      <th>id</th>\n",
       "      <th>item</th>\n",
       "      <th>count</th>\n",
       "      <th>item_lowercase</th>\n",
       "    </tr>\n",
       "  </thead>\n",
       "  <tbody>\n",
       "    <tr>\n",
       "      <th>0</th>\n",
       "      <td>100480924</td>\n",
       "      <td>Смартфон Xiaomi Redmi 6A 16GB</td>\n",
       "      <td>44</td>\n",
       "      <td>смартфон xiaomi redmi 6a 16gb</td>\n",
       "    </tr>\n",
       "    <tr>\n",
       "      <th>1</th>\n",
       "      <td>100480938</td>\n",
       "      <td>Смартфон Samsung Galaxy A30 32GB</td>\n",
       "      <td>49</td>\n",
       "      <td>смартфон samsung galaxy a30 32gb</td>\n",
       "    </tr>\n",
       "    <tr>\n",
       "      <th>2</th>\n",
       "      <td>100480959</td>\n",
       "      <td>Смартфон HUAWEI P30 lite</td>\n",
       "      <td>38</td>\n",
       "      <td>смартфон huawei p30 lite</td>\n",
       "    </tr>\n",
       "    <tr>\n",
       "      <th>3</th>\n",
       "      <td>100480975</td>\n",
       "      <td>Смартфон Apple iPhone Xr 64gb</td>\n",
       "      <td>10</td>\n",
       "      <td>смартфон apple iphone xr 64gb</td>\n",
       "    </tr>\n",
       "    <tr>\n",
       "      <th>4</th>\n",
       "      <td>100480988</td>\n",
       "      <td>Смартфон Honor 8X 64GB</td>\n",
       "      <td>64</td>\n",
       "      <td>смартфон honor 8x 64gb</td>\n",
       "    </tr>\n",
       "  </tbody>\n",
       "</table>\n",
       "</div>"
      ],
      "text/plain": [
       "          id                              item  count  \\\n",
       "0  100480924     Смартфон Xiaomi Redmi 6A 16GB     44   \n",
       "1  100480938  Смартфон Samsung Galaxy A30 32GB     49   \n",
       "2  100480959          Смартфон HUAWEI P30 lite     38   \n",
       "3  100480975     Смартфон Apple iPhone Xr 64gb     10   \n",
       "4  100480988            Смартфон Honor 8X 64GB     64   \n",
       "\n",
       "                     item_lowercase  \n",
       "0     смартфон xiaomi redmi 6a 16gb  \n",
       "1  смартфон samsung galaxy a30 32gb  \n",
       "2          смартфон huawei p30 lite  \n",
       "3     смартфон apple iphone xr 64gb  \n",
       "4            смартфон honor 8x 64gb  "
      ]
     },
     "execution_count": 16,
     "metadata": {},
     "output_type": "execute_result"
    }
   ],
   "source": [
    "stock = stock.dropna().reset_index(drop=True)\n",
    "stock"
   ]
  },
  {
   "cell_type": "markdown",
   "metadata": {},
   "source": [
    "### 7"
   ]
  },
  {
   "cell_type": "markdown",
   "metadata": {},
   "source": [
    "Замените количество телефонов Apple в таблице, т.е. значение в столбце 'count', на переменную apple. Распечатайте таблицу stock на экране."
   ]
  },
  {
   "cell_type": "code",
   "execution_count": 17,
   "metadata": {},
   "outputs": [
    {
     "data": {
      "text/html": [
       "<div>\n",
       "<style scoped>\n",
       "    .dataframe tbody tr th:only-of-type {\n",
       "        vertical-align: middle;\n",
       "    }\n",
       "\n",
       "    .dataframe tbody tr th {\n",
       "        vertical-align: top;\n",
       "    }\n",
       "\n",
       "    .dataframe thead th {\n",
       "        text-align: right;\n",
       "    }\n",
       "</style>\n",
       "<table border=\"1\" class=\"dataframe\">\n",
       "  <thead>\n",
       "    <tr style=\"text-align: right;\">\n",
       "      <th></th>\n",
       "      <th>id</th>\n",
       "      <th>item</th>\n",
       "      <th>count</th>\n",
       "      <th>item_lowercase</th>\n",
       "    </tr>\n",
       "  </thead>\n",
       "  <tbody>\n",
       "    <tr>\n",
       "      <th>0</th>\n",
       "      <td>100480924</td>\n",
       "      <td>Смартфон Xiaomi Redmi 6A 16GB</td>\n",
       "      <td>44</td>\n",
       "      <td>смартфон xiaomi redmi 6a 16gb</td>\n",
       "    </tr>\n",
       "    <tr>\n",
       "      <th>1</th>\n",
       "      <td>100480938</td>\n",
       "      <td>Смартфон Samsung Galaxy A30 32GB</td>\n",
       "      <td>49</td>\n",
       "      <td>смартфон samsung galaxy a30 32gb</td>\n",
       "    </tr>\n",
       "    <tr>\n",
       "      <th>2</th>\n",
       "      <td>100480959</td>\n",
       "      <td>Смартфон HUAWEI P30 lite</td>\n",
       "      <td>38</td>\n",
       "      <td>смартфон huawei p30 lite</td>\n",
       "    </tr>\n",
       "    <tr>\n",
       "      <th>3</th>\n",
       "      <td>100480975</td>\n",
       "      <td>Смартфон Apple iPhone Xr 64gb</td>\n",
       "      <td>29</td>\n",
       "      <td>смартфон apple iphone xr 64gb</td>\n",
       "    </tr>\n",
       "    <tr>\n",
       "      <th>4</th>\n",
       "      <td>100480988</td>\n",
       "      <td>Смартфон Honor 8X 64GB</td>\n",
       "      <td>64</td>\n",
       "      <td>смартфон honor 8x 64gb</td>\n",
       "    </tr>\n",
       "  </tbody>\n",
       "</table>\n",
       "</div>"
      ],
      "text/plain": [
       "          id                              item  count  \\\n",
       "0  100480924     Смартфон Xiaomi Redmi 6A 16GB     44   \n",
       "1  100480938  Смартфон Samsung Galaxy A30 32GB     49   \n",
       "2  100480959          Смартфон HUAWEI P30 lite     38   \n",
       "3  100480975     Смартфон Apple iPhone Xr 64gb     29   \n",
       "4  100480988            Смартфон Honor 8X 64GB     64   \n",
       "\n",
       "                     item_lowercase  \n",
       "0     смартфон xiaomi redmi 6a 16gb  \n",
       "1  смартфон samsung galaxy a30 32gb  \n",
       "2          смартфон huawei p30 lite  \n",
       "3     смартфон apple iphone xr 64gb  \n",
       "4            смартфон honor 8x 64gb  "
      ]
     },
     "execution_count": 17,
     "metadata": {},
     "output_type": "execute_result"
    }
   ],
   "source": [
    "stock.loc[3, 'count',] = apple\n",
    "stock"
   ]
  },
  {
   "cell_type": "markdown",
   "metadata": {},
   "source": [
    "### 8"
   ]
  },
  {
   "cell_type": "markdown",
   "metadata": {},
   "source": [
    "Замените количество телефонов Samsung в таблице — значение в столбце 'count' — на переменную samsung. Распечатайте таблицу stock на экране."
   ]
  },
  {
   "cell_type": "code",
   "execution_count": 18,
   "metadata": {},
   "outputs": [
    {
     "data": {
      "text/html": [
       "<div>\n",
       "<style scoped>\n",
       "    .dataframe tbody tr th:only-of-type {\n",
       "        vertical-align: middle;\n",
       "    }\n",
       "\n",
       "    .dataframe tbody tr th {\n",
       "        vertical-align: top;\n",
       "    }\n",
       "\n",
       "    .dataframe thead th {\n",
       "        text-align: right;\n",
       "    }\n",
       "</style>\n",
       "<table border=\"1\" class=\"dataframe\">\n",
       "  <thead>\n",
       "    <tr style=\"text-align: right;\">\n",
       "      <th></th>\n",
       "      <th>id</th>\n",
       "      <th>item</th>\n",
       "      <th>count</th>\n",
       "      <th>item_lowercase</th>\n",
       "    </tr>\n",
       "  </thead>\n",
       "  <tbody>\n",
       "    <tr>\n",
       "      <th>0</th>\n",
       "      <td>100480924</td>\n",
       "      <td>Смартфон Xiaomi Redmi 6A 16GB</td>\n",
       "      <td>44</td>\n",
       "      <td>смартфон xiaomi redmi 6a 16gb</td>\n",
       "    </tr>\n",
       "    <tr>\n",
       "      <th>1</th>\n",
       "      <td>100480938</td>\n",
       "      <td>Смартфон Samsung Galaxy A30 32GB</td>\n",
       "      <td>60</td>\n",
       "      <td>смартфон samsung galaxy a30 32gb</td>\n",
       "    </tr>\n",
       "    <tr>\n",
       "      <th>2</th>\n",
       "      <td>100480959</td>\n",
       "      <td>Смартфон HUAWEI P30 lite</td>\n",
       "      <td>38</td>\n",
       "      <td>смартфон huawei p30 lite</td>\n",
       "    </tr>\n",
       "    <tr>\n",
       "      <th>3</th>\n",
       "      <td>100480975</td>\n",
       "      <td>Смартфон Apple iPhone Xr 64gb</td>\n",
       "      <td>29</td>\n",
       "      <td>смартфон apple iphone xr 64gb</td>\n",
       "    </tr>\n",
       "    <tr>\n",
       "      <th>4</th>\n",
       "      <td>100480988</td>\n",
       "      <td>Смартфон Honor 8X 64GB</td>\n",
       "      <td>64</td>\n",
       "      <td>смартфон honor 8x 64gb</td>\n",
       "    </tr>\n",
       "  </tbody>\n",
       "</table>\n",
       "</div>"
      ],
      "text/plain": [
       "          id                              item  count  \\\n",
       "0  100480924     Смартфон Xiaomi Redmi 6A 16GB     44   \n",
       "1  100480938  Смартфон Samsung Galaxy A30 32GB     60   \n",
       "2  100480959          Смартфон HUAWEI P30 lite     38   \n",
       "3  100480975     Смартфон Apple iPhone Xr 64gb     29   \n",
       "4  100480988            Смартфон Honor 8X 64GB     64   \n",
       "\n",
       "                     item_lowercase  \n",
       "0     смартфон xiaomi redmi 6a 16gb  \n",
       "1  смартфон samsung galaxy a30 32gb  \n",
       "2          смартфон huawei p30 lite  \n",
       "3     смартфон apple iphone xr 64gb  \n",
       "4            смартфон honor 8x 64gb  "
      ]
     },
     "execution_count": 18,
     "metadata": {},
     "output_type": "execute_result"
    }
   ],
   "source": [
    "stock.loc[1, 'count',] = sumsung\n",
    "stock"
   ]
  }
 ],
 "metadata": {
  "kernelspec": {
   "display_name": "Python 3",
   "language": "python",
   "name": "python3"
  },
  "language_info": {
   "codemirror_mode": {
    "name": "ipython",
    "version": 3
   },
   "file_extension": ".py",
   "mimetype": "text/x-python",
   "name": "python",
   "nbconvert_exporter": "python",
   "pygments_lexer": "ipython3",
   "version": "3.11.9"
  }
 },
 "nbformat": 4,
 "nbformat_minor": 2
}
