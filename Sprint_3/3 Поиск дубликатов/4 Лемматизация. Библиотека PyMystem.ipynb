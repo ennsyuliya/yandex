{
 "cells": [
  {
   "cell_type": "code",
   "execution_count": 1,
   "metadata": {},
   "outputs": [],
   "source": [
    "import pandas as pd"
   ]
  },
  {
   "cell_type": "code",
   "execution_count": 2,
   "metadata": {},
   "outputs": [],
   "source": [
    "from pymystem3 import Mystem\n",
    "m = Mystem() "
   ]
  },
  {
   "cell_type": "markdown",
   "metadata": {},
   "source": [
    "### 1"
   ]
  },
  {
   "cell_type": "markdown",
   "metadata": {},
   "source": [
    "Прочитайте файл с отзывами, расположенный по адресу: /datasets/feedback.csv. Сохраните таблицу в переменной feedback и выведите её на экран."
   ]
  },
  {
   "cell_type": "code",
   "execution_count": 3,
   "metadata": {},
   "outputs": [
    {
     "data": {
      "text/html": [
       "<div>\n",
       "<style scoped>\n",
       "    .dataframe tbody tr th:only-of-type {\n",
       "        vertical-align: middle;\n",
       "    }\n",
       "\n",
       "    .dataframe tbody tr th {\n",
       "        vertical-align: top;\n",
       "    }\n",
       "\n",
       "    .dataframe thead th {\n",
       "        text-align: right;\n",
       "    }\n",
       "</style>\n",
       "<table border=\"1\" class=\"dataframe\">\n",
       "  <thead>\n",
       "    <tr style=\"text-align: right;\">\n",
       "      <th></th>\n",
       "      <th>text</th>\n",
       "    </tr>\n",
       "  </thead>\n",
       "  <tbody>\n",
       "    <tr>\n",
       "      <th>0</th>\n",
       "      <td>Супер экран Супер звук, он реально очень хорош...</td>\n",
       "    </tr>\n",
       "    <tr>\n",
       "      <th>1</th>\n",
       "      <td>- Огромный качественный экран Запаса производи...</td>\n",
       "    </tr>\n",
       "    <tr>\n",
       "      <th>2</th>\n",
       "      <td>- Face ID - бесит, хоть и работает достаточно ...</td>\n",
       "    </tr>\n",
       "  </tbody>\n",
       "</table>\n",
       "</div>"
      ],
      "text/plain": [
       "                                                text\n",
       "0  Супер экран Супер звук, он реально очень хорош...\n",
       "1  - Огромный качественный экран Запаса производи...\n",
       "2  - Face ID - бесит, хоть и работает достаточно ..."
      ]
     },
     "execution_count": 3,
     "metadata": {},
     "output_type": "execute_result"
    }
   ],
   "source": [
    "feedback = pd.read_csv('./feedback.csv')\n",
    "feedback"
   ]
  },
  {
   "cell_type": "markdown",
   "metadata": {},
   "source": [
    "### 2"
   ]
  },
  {
   "cell_type": "markdown",
   "metadata": {},
   "source": [
    "Лемматизируйте слова во втором отзыве и сохраните результат в переменной lemmas. Выведите слова на экран.\n",
    "Не забудьте импортировать библиотеку pymystem3."
   ]
  },
  {
   "cell_type": "code",
   "execution_count": 4,
   "metadata": {},
   "outputs": [
    {
     "name": "stdout",
     "output_type": "stream",
     "text": [
      "['- ', 'огромный', ' ', 'качественный', ' ', 'экран', ' ', 'запас', ' ', 'производительность', ' ', 'хватить', ' ', 'на', ' ', 'несколько', ' ', 'год', ' ', 'замечательный', ' ', 'камера', ' ', 'очень', ' ', 'емкий', ' ', 'батарея', '. ', 'хватать', ' ', 'на', ' ', 'целый', ' ', 'день', '.', '\\n']\n"
     ]
    }
   ],
   "source": [
    "lemmas = m.lemmatize(feedback.text[1])\n",
    "print(lemmas)"
   ]
  },
  {
   "cell_type": "markdown",
   "metadata": {},
   "source": [
    "### 3"
   ]
  },
  {
   "cell_type": "markdown",
   "metadata": {},
   "source": [
    "\n",
    "Посчитайте, сколько раз каждое слово употребляется во втором отзыве. \n",
    "\n",
    "Закомментируйте вывод предыдущей задачи и выведите результат на экран."
   ]
  },
  {
   "cell_type": "code",
   "execution_count": 5,
   "metadata": {},
   "outputs": [],
   "source": [
    "from collections import Counter"
   ]
  },
  {
   "cell_type": "code",
   "execution_count": 6,
   "metadata": {},
   "outputs": [
    {
     "name": "stdout",
     "output_type": "stream",
     "text": [
      "Counter({' ': 16, 'на': 2, '- ': 1, 'огромный': 1, 'качественный': 1, 'экран': 1, 'запас': 1, 'производительность': 1, 'хватить': 1, 'несколько': 1, 'год': 1, 'замечательный': 1, 'камера': 1, 'очень': 1, 'емкий': 1, 'батарея': 1, '. ': 1, 'хватать': 1, 'целый': 1, 'день': 1, '.': 1, '\\n': 1})\n"
     ]
    }
   ],
   "source": [
    "print(Counter(lemmas))"
   ]
  },
  {
   "cell_type": "markdown",
   "metadata": {},
   "source": [
    "### 4"
   ]
  },
  {
   "cell_type": "markdown",
   "metadata": {},
   "source": [
    "Лемматизируйте слова третьего отзыва и сохраните результат в переменной lemmas. \n",
    "\n",
    "Выведите слова на экран.\n",
    "\n",
    "Не забудьте импортировать библиотеку pymystem3."
   ]
  },
  {
   "cell_type": "code",
   "execution_count": 7,
   "metadata": {},
   "outputs": [
    {
     "name": "stdout",
     "output_type": "stream",
     "text": [
      "['- ', 'Face', ' ', 'ID', ' - ', 'бесить', ', ', 'хоть', ' ', 'и', ' ', 'работать', ' ', 'достаточно', ' ', 'вменяемый', ' ', 'и', ' ', 'быстро', ', ', 'я', ' ', 'вход', ' ', 'по', ' ', 'отпечаток', ' ', 'палец', ' ', 'нравиться', ' ', 'куда', ' ', 'много', '. ', 'думать', ',', 'что', ' ', 'apple', ' ', 'вернуться', ' ', 'к', ' ', 'он', ' ', 'скользкий', ', ', 'съезжать', ' ', 'со', ' ', 'многий', ' ', 'поверхность', ', ', 'в', ' ', 'тот', ' ', 'число', ' ', 'и', ' ', 'с', ' ', 'беспроводный', ' ', 'зарядка', ', (', 'который', ' ', 'специально', ' ', 'сделать', ' ', 'из', ' ', 'софт', '-', 'тач', ' ', 'пластика', ') ', 'она', ' ', 'немного', ' ', 'выпуклый', '. ', 'так', ' ', 'же', ' ', 'мочь', ' ', 'выскальзывать', ' ', 'если', ' ', 'пользоваться', ' ', 'один', ' ', 'рука', ' ', 'и', ' ', 'тянуться', ' ', 'к', ' ', 'низ', ' ', 'экран', '\\n']\n"
     ]
    }
   ],
   "source": [
    "lemmas = m.lemmatize(feedback.text[2])\n",
    "print(lemmas)"
   ]
  },
  {
   "cell_type": "markdown",
   "metadata": {},
   "source": [
    "### 5"
   ]
  },
  {
   "cell_type": "markdown",
   "metadata": {},
   "source": [
    "\n",
    "Посчитайте, сколько раз каждое слово употребляется в третьем отзыве. \n",
    "\n",
    "Закомментируйте вывод предыдущей задачи и выведите результат на экран."
   ]
  },
  {
   "cell_type": "code",
   "execution_count": 8,
   "metadata": {},
   "outputs": [
    {
     "name": "stdout",
     "output_type": "stream",
     "text": [
      "Counter({' ': 47, ', ': 4, 'и': 4, '. ': 2, 'к': 2, '- ': 1, 'Face': 1, 'ID': 1, ' - ': 1, 'бесить': 1, 'хоть': 1, 'работать': 1, 'достаточно': 1, 'вменяемый': 1, 'быстро': 1, 'я': 1, 'вход': 1, 'по': 1, 'отпечаток': 1, 'палец': 1, 'нравиться': 1, 'куда': 1, 'много': 1, 'думать': 1, ',': 1, 'что': 1, 'apple': 1, 'вернуться': 1, 'он': 1, 'скользкий': 1, 'съезжать': 1, 'со': 1, 'многий': 1, 'поверхность': 1, 'в': 1, 'тот': 1, 'число': 1, 'с': 1, 'беспроводный': 1, 'зарядка': 1, ', (': 1, 'который': 1, 'специально': 1, 'сделать': 1, 'из': 1, 'софт': 1, '-': 1, 'тач': 1, 'пластика': 1, ') ': 1, 'она': 1, 'немного': 1, 'выпуклый': 1, 'так': 1, 'же': 1, 'мочь': 1, 'выскальзывать': 1, 'если': 1, 'пользоваться': 1, 'один': 1, 'рука': 1, 'тянуться': 1, 'низ': 1, 'экран': 1, '\\n': 1})\n"
     ]
    }
   ],
   "source": [
    "print(Counter(lemmas))"
   ]
  }
 ],
 "metadata": {
  "kernelspec": {
   "display_name": "Python 3",
   "language": "python",
   "name": "python3"
  },
  "language_info": {
   "codemirror_mode": {
    "name": "ipython",
    "version": 3
   },
   "file_extension": ".py",
   "mimetype": "text/x-python",
   "name": "python",
   "nbconvert_exporter": "python",
   "pygments_lexer": "ipython3",
   "version": "3.11.9"
  }
 },
 "nbformat": 4,
 "nbformat_minor": 2
}
