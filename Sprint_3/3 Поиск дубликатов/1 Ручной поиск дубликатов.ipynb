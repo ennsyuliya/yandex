{
 "cells": [
  {
   "cell_type": "markdown",
   "metadata": {},
   "source": [
    "### 1"
   ]
  },
  {
   "cell_type": "markdown",
   "metadata": {},
   "source": [
    "\n",
    "Посчитайте количество дубликатов в столбце 'item', вызвав методы duplicated() и sum().\n",
    "\n",
    "Распечатайте на экране результаты вычислений в следующем виде:\n",
    "\n",
    "Дубликатов в таблице: ... "
   ]
  },
  {
   "cell_type": "code",
   "execution_count": 1,
   "metadata": {},
   "outputs": [],
   "source": [
    "import pandas as pd"
   ]
  },
  {
   "cell_type": "code",
   "execution_count": 2,
   "metadata": {},
   "outputs": [
    {
     "name": "stdout",
     "output_type": "stream",
     "text": [
      "Дубликатов в таблице:  3\n"
     ]
    }
   ],
   "source": [
    "stock = pd.read_excel('./stock.xlsx', sheet_name='storehouse')\n",
    "print('Дубликатов в таблице: ', stock['item'].duplicated().sum()) "
   ]
  },
  {
   "cell_type": "markdown",
   "metadata": {},
   "source": [
    "### 2"
   ]
  },
  {
   "cell_type": "markdown",
   "metadata": {},
   "source": [
    "\n",
    "Примените метод value_counts() к столбцу 'item'. Результат выведите на экран."
   ]
  },
  {
   "cell_type": "code",
   "execution_count": 3,
   "metadata": {},
   "outputs": [
    {
     "name": "stdout",
     "output_type": "stream",
     "text": [
      "item\n",
      "Смартфон Xiaomi Redmi 6A 16GB       3\n",
      "Смартфон HUAWEI P30 lite            2\n",
      "Смартфон Samsung Galaxy A30 32GB    1\n",
      "смартфон Samsung Galaxy A30 32gb    1\n",
      "Смартфон Apple iPhone Xr 64gb       1\n",
      "Смартфон Honor 8X 64GB              1\n",
      "Смартфон Apple iPhone Xr 64GB       1\n",
      "Name: count, dtype: int64\n"
     ]
    }
   ],
   "source": [
    "print(stock['item'].value_counts())"
   ]
  },
  {
   "cell_type": "markdown",
   "metadata": {},
   "source": [
    "### 3"
   ]
  },
  {
   "cell_type": "markdown",
   "metadata": {},
   "source": [
    "Начните собирать данные для новой таблицы уже без дубликатов. \n",
    "\n",
    "Посчитайте количество телефонов марки Xiaomi Redmi на складе и сохраните его в переменной xiaomi.\n",
    "\n",
    " Результат выведите на экран."
   ]
  },
  {
   "cell_type": "code",
   "execution_count": 4,
   "metadata": {},
   "outputs": [
    {
     "data": {
      "text/plain": [
       "np.int64(44)"
      ]
     },
     "execution_count": 4,
     "metadata": {},
     "output_type": "execute_result"
    }
   ],
   "source": [
    "xiaomi = stock[stock['item'] == 'Смартфон Xiaomi Redmi 6A 16GB']['count'].sum() \n",
    "xiaomi"
   ]
  },
  {
   "cell_type": "markdown",
   "metadata": {},
   "source": [
    "### 4"
   ]
  },
  {
   "cell_type": "markdown",
   "metadata": {},
   "source": [
    "Найдите количество смартфонов HUAWEI и сохраните его в переменной huawei.\n",
    "\n",
    " Закомментируйте вывод предыдущей задачи и выведите результат на экран."
   ]
  },
  {
   "cell_type": "code",
   "execution_count": 5,
   "metadata": {},
   "outputs": [
    {
     "data": {
      "text/plain": [
       "np.int64(38)"
      ]
     },
     "execution_count": 5,
     "metadata": {},
     "output_type": "execute_result"
    }
   ],
   "source": [
    "huawei = stock[stock['item'] == 'Смартфон HUAWEI P30 lite']['count'].sum()\n",
    "huawei"
   ]
  },
  {
   "cell_type": "markdown",
   "metadata": {},
   "source": [
    "### 5"
   ]
  },
  {
   "cell_type": "markdown",
   "metadata": {},
   "source": [
    "Удалите дубликаты из столбца item, «перезаписав» его.\n",
    "\n",
    "Выведите на экран всю таблицу. Закомментируйте вывод из предыдущей задачи."
   ]
  },
  {
   "cell_type": "code",
   "execution_count": 6,
   "metadata": {},
   "outputs": [
    {
     "data": {
      "text/html": [
       "<div>\n",
       "<style scoped>\n",
       "    .dataframe tbody tr th:only-of-type {\n",
       "        vertical-align: middle;\n",
       "    }\n",
       "\n",
       "    .dataframe tbody tr th {\n",
       "        vertical-align: top;\n",
       "    }\n",
       "\n",
       "    .dataframe thead th {\n",
       "        text-align: right;\n",
       "    }\n",
       "</style>\n",
       "<table border=\"1\" class=\"dataframe\">\n",
       "  <thead>\n",
       "    <tr style=\"text-align: right;\">\n",
       "      <th></th>\n",
       "      <th>id</th>\n",
       "      <th>item</th>\n",
       "      <th>count</th>\n",
       "    </tr>\n",
       "  </thead>\n",
       "  <tbody>\n",
       "    <tr>\n",
       "      <th>0</th>\n",
       "      <td>100480924</td>\n",
       "      <td>Смартфон Xiaomi Redmi 6A 16GB</td>\n",
       "      <td>32</td>\n",
       "    </tr>\n",
       "    <tr>\n",
       "      <th>1</th>\n",
       "      <td>100480929</td>\n",
       "      <td>NaN</td>\n",
       "      <td>10</td>\n",
       "    </tr>\n",
       "    <tr>\n",
       "      <th>2</th>\n",
       "      <td>100480938</td>\n",
       "      <td>Смартфон Samsung Galaxy A30 32GB</td>\n",
       "      <td>49</td>\n",
       "    </tr>\n",
       "    <tr>\n",
       "      <th>3</th>\n",
       "      <td>100480952</td>\n",
       "      <td>смартфон Samsung Galaxy A30 32gb</td>\n",
       "      <td>11</td>\n",
       "    </tr>\n",
       "    <tr>\n",
       "      <th>4</th>\n",
       "      <td>100480959</td>\n",
       "      <td>Смартфон HUAWEI P30 lite</td>\n",
       "      <td>5</td>\n",
       "    </tr>\n",
       "    <tr>\n",
       "      <th>5</th>\n",
       "      <td>100480975</td>\n",
       "      <td>Смартфон Apple iPhone Xr 64gb</td>\n",
       "      <td>10</td>\n",
       "    </tr>\n",
       "    <tr>\n",
       "      <th>6</th>\n",
       "      <td>100480988</td>\n",
       "      <td>Смартфон Honor 8X 64GB</td>\n",
       "      <td>64</td>\n",
       "    </tr>\n",
       "    <tr>\n",
       "      <th>7</th>\n",
       "      <td>100480998</td>\n",
       "      <td>NaN</td>\n",
       "      <td>33</td>\n",
       "    </tr>\n",
       "    <tr>\n",
       "      <th>8</th>\n",
       "      <td>100481008</td>\n",
       "      <td>NaN</td>\n",
       "      <td>2</td>\n",
       "    </tr>\n",
       "    <tr>\n",
       "      <th>9</th>\n",
       "      <td>100481020</td>\n",
       "      <td>Смартфон Apple iPhone Xr 64GB</td>\n",
       "      <td>19</td>\n",
       "    </tr>\n",
       "  </tbody>\n",
       "</table>\n",
       "</div>"
      ],
      "text/plain": [
       "          id                              item  count\n",
       "0  100480924     Смартфон Xiaomi Redmi 6A 16GB     32\n",
       "1  100480929                               NaN     10\n",
       "2  100480938  Смартфон Samsung Galaxy A30 32GB     49\n",
       "3  100480952  смартфон Samsung Galaxy A30 32gb     11\n",
       "4  100480959          Смартфон HUAWEI P30 lite      5\n",
       "5  100480975     Смартфон Apple iPhone Xr 64gb     10\n",
       "6  100480988            Смартфон Honor 8X 64GB     64\n",
       "7  100480998                               NaN     33\n",
       "8  100481008                               NaN      2\n",
       "9  100481020     Смартфон Apple iPhone Xr 64GB     19"
      ]
     },
     "execution_count": 6,
     "metadata": {},
     "output_type": "execute_result"
    }
   ],
   "source": [
    "stock['item'] = stock['item'].drop_duplicates()\n",
    "stock"
   ]
  },
  {
   "cell_type": "markdown",
   "metadata": {},
   "source": [
    "### 6"
   ]
  },
  {
   "cell_type": "markdown",
   "metadata": {},
   "source": [
    "Удалите пропуски из таблицы методом dropna() и восстановите индексы методом reset_index() c параметром drop, равным True. \n",
    "\n",
    "Выведите на экран таблицу."
   ]
  },
  {
   "cell_type": "code",
   "execution_count": 7,
   "metadata": {},
   "outputs": [
    {
     "data": {
      "text/html": [
       "<div>\n",
       "<style scoped>\n",
       "    .dataframe tbody tr th:only-of-type {\n",
       "        vertical-align: middle;\n",
       "    }\n",
       "\n",
       "    .dataframe tbody tr th {\n",
       "        vertical-align: top;\n",
       "    }\n",
       "\n",
       "    .dataframe thead th {\n",
       "        text-align: right;\n",
       "    }\n",
       "</style>\n",
       "<table border=\"1\" class=\"dataframe\">\n",
       "  <thead>\n",
       "    <tr style=\"text-align: right;\">\n",
       "      <th></th>\n",
       "      <th>id</th>\n",
       "      <th>item</th>\n",
       "      <th>count</th>\n",
       "    </tr>\n",
       "  </thead>\n",
       "  <tbody>\n",
       "    <tr>\n",
       "      <th>0</th>\n",
       "      <td>100480924</td>\n",
       "      <td>Смартфон Xiaomi Redmi 6A 16GB</td>\n",
       "      <td>32</td>\n",
       "    </tr>\n",
       "    <tr>\n",
       "      <th>1</th>\n",
       "      <td>100480938</td>\n",
       "      <td>Смартфон Samsung Galaxy A30 32GB</td>\n",
       "      <td>49</td>\n",
       "    </tr>\n",
       "    <tr>\n",
       "      <th>2</th>\n",
       "      <td>100480952</td>\n",
       "      <td>смартфон Samsung Galaxy A30 32gb</td>\n",
       "      <td>11</td>\n",
       "    </tr>\n",
       "    <tr>\n",
       "      <th>3</th>\n",
       "      <td>100480959</td>\n",
       "      <td>Смартфон HUAWEI P30 lite</td>\n",
       "      <td>5</td>\n",
       "    </tr>\n",
       "    <tr>\n",
       "      <th>4</th>\n",
       "      <td>100480975</td>\n",
       "      <td>Смартфон Apple iPhone Xr 64gb</td>\n",
       "      <td>10</td>\n",
       "    </tr>\n",
       "    <tr>\n",
       "      <th>5</th>\n",
       "      <td>100480988</td>\n",
       "      <td>Смартфон Honor 8X 64GB</td>\n",
       "      <td>64</td>\n",
       "    </tr>\n",
       "    <tr>\n",
       "      <th>6</th>\n",
       "      <td>100481020</td>\n",
       "      <td>Смартфон Apple iPhone Xr 64GB</td>\n",
       "      <td>19</td>\n",
       "    </tr>\n",
       "  </tbody>\n",
       "</table>\n",
       "</div>"
      ],
      "text/plain": [
       "          id                              item  count\n",
       "0  100480924     Смартфон Xiaomi Redmi 6A 16GB     32\n",
       "1  100480938  Смартфон Samsung Galaxy A30 32GB     49\n",
       "2  100480952  смартфон Samsung Galaxy A30 32gb     11\n",
       "3  100480959          Смартфон HUAWEI P30 lite      5\n",
       "4  100480975     Смартфон Apple iPhone Xr 64gb     10\n",
       "5  100480988            Смартфон Honor 8X 64GB     64\n",
       "6  100481020     Смартфон Apple iPhone Xr 64GB     19"
      ]
     },
     "execution_count": 7,
     "metadata": {},
     "output_type": "execute_result"
    }
   ],
   "source": [
    "stock = stock.dropna().reset_index(drop = True)\n",
    "stock"
   ]
  },
  {
   "cell_type": "markdown",
   "metadata": {},
   "source": [
    "### 7"
   ]
  },
  {
   "cell_type": "markdown",
   "metadata": {},
   "source": [
    "Замените количество телефонов Xiaomi — значение в столбце 'count' — на переменную xiaomi.\n",
    "\n",
    " Напомним, что в этой переменной вы сохранили число смартфонов Xiaomi. Выведите таблицу на экран и изучите результат."
   ]
  },
  {
   "cell_type": "code",
   "execution_count": 8,
   "metadata": {},
   "outputs": [
    {
     "data": {
      "text/html": [
       "<div>\n",
       "<style scoped>\n",
       "    .dataframe tbody tr th:only-of-type {\n",
       "        vertical-align: middle;\n",
       "    }\n",
       "\n",
       "    .dataframe tbody tr th {\n",
       "        vertical-align: top;\n",
       "    }\n",
       "\n",
       "    .dataframe thead th {\n",
       "        text-align: right;\n",
       "    }\n",
       "</style>\n",
       "<table border=\"1\" class=\"dataframe\">\n",
       "  <thead>\n",
       "    <tr style=\"text-align: right;\">\n",
       "      <th></th>\n",
       "      <th>id</th>\n",
       "      <th>item</th>\n",
       "      <th>count</th>\n",
       "    </tr>\n",
       "  </thead>\n",
       "  <tbody>\n",
       "    <tr>\n",
       "      <th>0</th>\n",
       "      <td>100480924</td>\n",
       "      <td>Смартфон Xiaomi Redmi 6A 16GB</td>\n",
       "      <td>44</td>\n",
       "    </tr>\n",
       "    <tr>\n",
       "      <th>1</th>\n",
       "      <td>100480938</td>\n",
       "      <td>Смартфон Samsung Galaxy A30 32GB</td>\n",
       "      <td>49</td>\n",
       "    </tr>\n",
       "    <tr>\n",
       "      <th>2</th>\n",
       "      <td>100480952</td>\n",
       "      <td>смартфон Samsung Galaxy A30 32gb</td>\n",
       "      <td>11</td>\n",
       "    </tr>\n",
       "    <tr>\n",
       "      <th>3</th>\n",
       "      <td>100480959</td>\n",
       "      <td>Смартфон HUAWEI P30 lite</td>\n",
       "      <td>5</td>\n",
       "    </tr>\n",
       "    <tr>\n",
       "      <th>4</th>\n",
       "      <td>100480975</td>\n",
       "      <td>Смартфон Apple iPhone Xr 64gb</td>\n",
       "      <td>10</td>\n",
       "    </tr>\n",
       "    <tr>\n",
       "      <th>5</th>\n",
       "      <td>100480988</td>\n",
       "      <td>Смартфон Honor 8X 64GB</td>\n",
       "      <td>64</td>\n",
       "    </tr>\n",
       "    <tr>\n",
       "      <th>6</th>\n",
       "      <td>100481020</td>\n",
       "      <td>Смартфон Apple iPhone Xr 64GB</td>\n",
       "      <td>19</td>\n",
       "    </tr>\n",
       "  </tbody>\n",
       "</table>\n",
       "</div>"
      ],
      "text/plain": [
       "          id                              item  count\n",
       "0  100480924     Смартфон Xiaomi Redmi 6A 16GB     44\n",
       "1  100480938  Смартфон Samsung Galaxy A30 32GB     49\n",
       "2  100480952  смартфон Samsung Galaxy A30 32gb     11\n",
       "3  100480959          Смартфон HUAWEI P30 lite      5\n",
       "4  100480975     Смартфон Apple iPhone Xr 64gb     10\n",
       "5  100480988            Смартфон Honor 8X 64GB     64\n",
       "6  100481020     Смартфон Apple iPhone Xr 64GB     19"
      ]
     },
     "execution_count": 8,
     "metadata": {},
     "output_type": "execute_result"
    }
   ],
   "source": [
    "stock.loc[0, 'count',] = xiaomi\n",
    "stock"
   ]
  },
  {
   "cell_type": "markdown",
   "metadata": {},
   "source": [
    "### 8"
   ]
  },
  {
   "cell_type": "markdown",
   "metadata": {},
   "source": [
    "Замените количество телефонов Huawei в таблице — значение в столбце 'count' — на переменную huawei. \n",
    "\n",
    "Распечатайте таблицу stock на экране."
   ]
  },
  {
   "cell_type": "code",
   "execution_count": 9,
   "metadata": {},
   "outputs": [
    {
     "data": {
      "text/html": [
       "<div>\n",
       "<style scoped>\n",
       "    .dataframe tbody tr th:only-of-type {\n",
       "        vertical-align: middle;\n",
       "    }\n",
       "\n",
       "    .dataframe tbody tr th {\n",
       "        vertical-align: top;\n",
       "    }\n",
       "\n",
       "    .dataframe thead th {\n",
       "        text-align: right;\n",
       "    }\n",
       "</style>\n",
       "<table border=\"1\" class=\"dataframe\">\n",
       "  <thead>\n",
       "    <tr style=\"text-align: right;\">\n",
       "      <th></th>\n",
       "      <th>id</th>\n",
       "      <th>item</th>\n",
       "      <th>count</th>\n",
       "    </tr>\n",
       "  </thead>\n",
       "  <tbody>\n",
       "    <tr>\n",
       "      <th>0</th>\n",
       "      <td>100480924</td>\n",
       "      <td>Смартфон Xiaomi Redmi 6A 16GB</td>\n",
       "      <td>44</td>\n",
       "    </tr>\n",
       "    <tr>\n",
       "      <th>1</th>\n",
       "      <td>100480938</td>\n",
       "      <td>Смартфон Samsung Galaxy A30 32GB</td>\n",
       "      <td>49</td>\n",
       "    </tr>\n",
       "    <tr>\n",
       "      <th>2</th>\n",
       "      <td>100480952</td>\n",
       "      <td>смартфон Samsung Galaxy A30 32gb</td>\n",
       "      <td>11</td>\n",
       "    </tr>\n",
       "    <tr>\n",
       "      <th>3</th>\n",
       "      <td>100480959</td>\n",
       "      <td>Смартфон HUAWEI P30 lite</td>\n",
       "      <td>38</td>\n",
       "    </tr>\n",
       "    <tr>\n",
       "      <th>4</th>\n",
       "      <td>100480975</td>\n",
       "      <td>Смартфон Apple iPhone Xr 64gb</td>\n",
       "      <td>10</td>\n",
       "    </tr>\n",
       "    <tr>\n",
       "      <th>5</th>\n",
       "      <td>100480988</td>\n",
       "      <td>Смартфон Honor 8X 64GB</td>\n",
       "      <td>64</td>\n",
       "    </tr>\n",
       "    <tr>\n",
       "      <th>6</th>\n",
       "      <td>100481020</td>\n",
       "      <td>Смартфон Apple iPhone Xr 64GB</td>\n",
       "      <td>19</td>\n",
       "    </tr>\n",
       "  </tbody>\n",
       "</table>\n",
       "</div>"
      ],
      "text/plain": [
       "          id                              item  count\n",
       "0  100480924     Смартфон Xiaomi Redmi 6A 16GB     44\n",
       "1  100480938  Смартфон Samsung Galaxy A30 32GB     49\n",
       "2  100480952  смартфон Samsung Galaxy A30 32gb     11\n",
       "3  100480959          Смартфон HUAWEI P30 lite     38\n",
       "4  100480975     Смартфон Apple iPhone Xr 64gb     10\n",
       "5  100480988            Смартфон Honor 8X 64GB     64\n",
       "6  100481020     Смартфон Apple iPhone Xr 64GB     19"
      ]
     },
     "execution_count": 9,
     "metadata": {},
     "output_type": "execute_result"
    }
   ],
   "source": [
    "stock.loc[0, 'count',] = xiaomi\n",
    "stock.loc[3, 'count',] = huawei\n",
    "stock"
   ]
  }
 ],
 "metadata": {
  "kernelspec": {
   "display_name": "Python 3",
   "language": "python",
   "name": "python3"
  },
  "language_info": {
   "codemirror_mode": {
    "name": "ipython",
    "version": 3
   },
   "file_extension": ".py",
   "mimetype": "text/x-python",
   "name": "python",
   "nbconvert_exporter": "python",
   "pygments_lexer": "ipython3",
   "version": "3.11.9"
  }
 },
 "nbformat": 4,
 "nbformat_minor": 2
}
