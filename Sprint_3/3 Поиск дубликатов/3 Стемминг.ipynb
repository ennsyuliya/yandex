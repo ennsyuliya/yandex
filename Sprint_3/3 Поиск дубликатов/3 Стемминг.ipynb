{
 "cells": [
  {
   "cell_type": "code",
   "execution_count": 1,
   "metadata": {},
   "outputs": [],
   "source": [
    "import pandas as pd"
   ]
  },
  {
   "cell_type": "markdown",
   "metadata": {},
   "source": [
    "### 1"
   ]
  },
  {
   "cell_type": "markdown",
   "metadata": {},
   "source": [
    ".\n",
    "Вернитесь к смартфонам и проанализируйте поисковые запросы пользователей.\n",
    "Напишите цикл, который выводит только запросы, содержащие набор букв «эпл». Внимательно просмотрите полученный список и найдите лишние слова."
   ]
  },
  {
   "cell_type": "code",
   "execution_count": 2,
   "metadata": {},
   "outputs": [],
   "source": [
    "queries = [\"эпл айфоны\", \n",
    "           \"купить эпл телефон\", \n",
    "           \"лучшие смартфоны\", \n",
    "           \"барон фон\", \n",
    "           \"смартфон эпл айфон\", \n",
    "           \"смартфоны 2019\", \n",
    "           \"эплан\", \n",
    "           \"фоновая музыка\", \n",
    "           \"эпл айфоны икс\", \n",
    "           \"эпл айфон 64гб\",\n",
    "           \"фон для фото\",\n",
    "           \"купить эпл\",\n",
    "           \"эпл айфон купить\",\n",
    "           \"эплеренон купить\", \n",
    "           \"смартфон где купить\", \n",
    "           \"эплан показания\", \n",
    "           \"смартфон huawei\",\n",
    "           \"эпл\"]"
   ]
  },
  {
   "cell_type": "code",
   "execution_count": 3,
   "metadata": {},
   "outputs": [
    {
     "name": "stdout",
     "output_type": "stream",
     "text": [
      "эпл айфоны\n",
      "купить эпл телефон\n",
      "смартфон эпл айфон\n",
      "эплан\n",
      "эпл айфоны икс\n",
      "эпл айфон 64гб\n",
      "купить эпл\n",
      "эпл айфон купить\n",
      "эплеренон купить\n",
      "эплан показания\n",
      "эпл\n"
     ]
    }
   ],
   "source": [
    "for word in queries:\n",
    "    if 'эпл' in word:\n",
    "        print(word)"
   ]
  },
  {
   "cell_type": "markdown",
   "metadata": {},
   "source": [
    "### 2"
   ]
  },
  {
   "cell_type": "markdown",
   "metadata": {},
   "source": [
    "Проведите стемминг в списке words. Результат выведите на экран в следующем виде:\n",
    "\n",
    "Исходное слово - ..., после стемминга - ... "
   ]
  },
  {
   "cell_type": "code",
   "execution_count": 4,
   "metadata": {},
   "outputs": [],
   "source": [
    "from nltk.stem import SnowballStemmer \n",
    "russian_stemmer = SnowballStemmer('russian')  "
   ]
  },
  {
   "cell_type": "code",
   "execution_count": 5,
   "metadata": {},
   "outputs": [
    {
     "name": "stdout",
     "output_type": "stream",
     "text": [
      "Исходное слово - эпл, после стемминга - эпл\n",
      "Исходное слово - эплан, после стемминга - эпла\n",
      "Исходное слово - эплеренон, после стемминга - эплеренон\n"
     ]
    }
   ],
   "source": [
    "words = [\"эпл\", \"эплан\", \"эплеренон\"]\n",
    "for word in words:\n",
    "    print ('Исходное слово - ' + word + ', после стемминга - ' + russian_stemmer.stem(word)) "
   ]
  },
  {
   "cell_type": "markdown",
   "metadata": {},
   "source": [
    "### 3"
   ]
  },
  {
   "cell_type": "markdown",
   "metadata": {},
   "source": [
    "\n",
    "Напечатайте список запросов только с основой «эпл»."
   ]
  },
  {
   "cell_type": "code",
   "execution_count": 6,
   "metadata": {},
   "outputs": [
    {
     "name": "stdout",
     "output_type": "stream",
     "text": [
      "эпл айфоны\n",
      "купить эпл телефон\n",
      "смартфон эпл айфон\n",
      "эпл айфоны икс\n",
      "эпл айфон 64гб\n",
      "купить эпл\n",
      "эпл айфон купить\n",
      "эпл\n"
     ]
    }
   ],
   "source": [
    "for query in queries:\n",
    "    for word in query.split():\n",
    "        stemmed_word = russian_stemmer.stem(word)\n",
    "        if stemmed_word == 'эпл':\n",
    "            print(query) "
   ]
  }
 ],
 "metadata": {
  "kernelspec": {
   "display_name": "Python 3",
   "language": "python",
   "name": "python3"
  },
  "language_info": {
   "codemirror_mode": {
    "name": "ipython",
    "version": 3
   },
   "file_extension": ".py",
   "mimetype": "text/x-python",
   "name": "python",
   "nbconvert_exporter": "python",
   "pygments_lexer": "ipython3",
   "version": "3.11.9"
  }
 },
 "nbformat": 4,
 "nbformat_minor": 2
}
