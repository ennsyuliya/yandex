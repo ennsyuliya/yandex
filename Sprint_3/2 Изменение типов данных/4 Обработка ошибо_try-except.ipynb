{
 "cells": [
  {
   "cell_type": "code",
   "execution_count": 1,
   "metadata": {},
   "outputs": [],
   "source": [
    "import pandas as pd"
   ]
  },
  {
   "cell_type": "markdown",
   "metadata": {},
   "source": [
    "### 1"
   ]
  },
  {
   "cell_type": "markdown",
   "metadata": {},
   "source": [
    "Формат выгрузки часто согласуют заранее: это помогает избежать проблем с некорректными данными.\n",
    "\n",
    " Вот и вам разработчики прислали формат на согласование: позиция сайта в выдаче на конкретную дату.\n",
    " \n",
    "Напишите цикл, подсчитывающий количество строк в данных. Результат выведите на экран."
   ]
  },
  {
   "cell_type": "code",
   "execution_count": 2,
   "metadata": {},
   "outputs": [],
   "source": [
    "position = [\n",
    "['2019-05-01', '6'],\n",
    "['2019-05-02', '5'],\n",
    "['2019-05-03', '5'],\n",
    "['2019-05-04', '4'],\n",
    "['2019-05-05', '5'],\n",
    "['2019-05-06', '5'],\n",
    "['2019-05-07', '4'],\n",
    "['2019-05-08', '4'],\n",
    "['2019-05-09', '3'],\n",
    "['2019-05-10', '3'],\n",
    "]\n",
    "\n",
    "  "
   ]
  },
  {
   "cell_type": "code",
   "execution_count": 3,
   "metadata": {},
   "outputs": [
    {
     "name": "stdout",
     "output_type": "stream",
     "text": [
      "10\n"
     ]
    }
   ],
   "source": [
    "count_lines = 0\n",
    "for row in position:\n",
    "    count_lines += 1\n",
    "print(count_lines)"
   ]
  },
  {
   "cell_type": "markdown",
   "metadata": {},
   "source": [
    "### 2"
   ]
  },
  {
   "cell_type": "markdown",
   "metadata": {},
   "source": [
    "Найдите среднюю позицию в выдаче за прошедший период. Результат выведите на экран."
   ]
  },
  {
   "cell_type": "code",
   "execution_count": 4,
   "metadata": {},
   "outputs": [
    {
     "name": "stdout",
     "output_type": "stream",
     "text": [
      "4.4\n"
     ]
    }
   ],
   "source": [
    "count_lines = 0\n",
    "total_position = 0\n",
    "\n",
    "for row in position:\n",
    "    count_lines += 1\n",
    "    level = int(row[1]) #в этой переменной сохраните позицию в выдаче \n",
    "    total_position += level #сложите все позиции в этой переменной \n",
    "print(total_position/count_lines)"
   ]
  },
  {
   "cell_type": "markdown",
   "metadata": {},
   "source": [
    "### 3"
   ]
  },
  {
   "cell_type": "markdown",
   "metadata": {},
   "source": [
    "Формат поставки статистики согласован. Разработчики прислали финальную выгрузку, где в данных появились проблемы: отрицательные значения, пробелы и даже ошибки.\n",
    "\n",
    "Посчитайте среднюю позицию в выдаче и нажмите «Выполнить код»."
   ]
  },
  {
   "cell_type": "code",
   "execution_count": 5,
   "metadata": {},
   "outputs": [
    {
     "ename": "ValueError",
     "evalue": "invalid literal for int() with base 10: '- 6'",
     "output_type": "error",
     "traceback": [
      "\u001b[1;31m---------------------------------------------------------------------------\u001b[0m",
      "\u001b[1;31mValueError\u001b[0m                                Traceback (most recent call last)",
      "Cell \u001b[1;32mIn[5], line 19\u001b[0m\n\u001b[0;32m     17\u001b[0m \u001b[38;5;28;01mfor\u001b[39;00m row \u001b[38;5;129;01min\u001b[39;00m position:\n\u001b[0;32m     18\u001b[0m     count_lines \u001b[38;5;241m+\u001b[39m\u001b[38;5;241m=\u001b[39m \u001b[38;5;241m1\u001b[39m\n\u001b[1;32m---> 19\u001b[0m     level \u001b[38;5;241m=\u001b[39m \u001b[38;5;28;43mint\u001b[39;49m\u001b[43m(\u001b[49m\u001b[43mrow\u001b[49m\u001b[43m[\u001b[49m\u001b[38;5;241;43m1\u001b[39;49m\u001b[43m]\u001b[49m\u001b[43m)\u001b[49m \u001b[38;5;66;03m#в этой переменной сохраните позицию в выдаче \u001b[39;00m\n\u001b[0;32m     20\u001b[0m     total_position \u001b[38;5;241m+\u001b[39m\u001b[38;5;241m=\u001b[39m level  \u001b[38;5;66;03m#сложите все позиции в этой переменной\u001b[39;00m\n",
      "\u001b[1;31mValueError\u001b[0m: invalid literal for int() with base 10: '- 6'"
     ]
    }
   ],
   "source": [
    "position = [\n",
    "['2019-05-01', '- 6'],\n",
    "['2019-05-02', '+5'],\n",
    "['2019-05-03', ' 5'],\n",
    "['2019-05-04', '4'],\n",
    "['2019-05-05', '5'],\n",
    "['2019-05-06', '5'],\n",
    "['2019-05-07', '4'],\n",
    "['2019-05-08', 'Error 5'],\n",
    "['2019-05-09', '3'],\n",
    "['2019-05-10', '3'],\n",
    "]\n",
    "\n",
    "count_lines = 0\n",
    "total_position = 0\n",
    "\n",
    "for row in position:\n",
    "    count_lines += 1\n",
    "    level = int(row[1]) #в этой переменной сохраните позицию в выдаче \n",
    "    total_position += level  #сложите все позиции в этой переменной"
   ]
  },
  {
   "cell_type": "markdown",
   "metadata": {},
   "source": [
    "### 4"
   ]
  },
  {
   "cell_type": "markdown",
   "metadata": {},
   "source": [
    "Примените конструкцию try-except и обработайте ошибки, мешающие решению задачи. \n",
    "\n",
    "Создайте переменную wrong_lines для подсчета некорректных строк и в except посчитайте их количество. \n",
    "\n",
    "Выведите на экран общее количество строк и количество некорректных строк в формате:\n",
    "\n",
    "Количество измерений ...\n",
    "\n",
    "Количество некорректных строк ... "
   ]
  },
  {
   "cell_type": "code",
   "execution_count": 6,
   "metadata": {},
   "outputs": [
    {
     "name": "stdout",
     "output_type": "stream",
     "text": [
      "Количество измерений 10\n",
      "Количество некорректных строк 2\n"
     ]
    }
   ],
   "source": [
    "position = [\n",
    "['2019-05-01', '- 6'],\n",
    "['2019-05-02', '+5'],\n",
    "['2019-05-03', ' 5'],\n",
    "['2019-05-04', '4'],\n",
    "['2019-05-05', '5'],\n",
    "['2019-05-06', '5'],\n",
    "['2019-05-07', '4'],\n",
    "['2019-05-08', 'Error 5'],\n",
    "['2019-05-09', '3'],\n",
    "['2019-05-10', '3'],\n",
    "]\n",
    "\n",
    "count_lines = 0\n",
    "total_position = 0\n",
    "wrong_lines = 0\n",
    "\n",
    "for row in position:\n",
    "    try:\n",
    "        count_lines += 1\n",
    "        level = int(row[1]) #в этой переменной сохраните позицию в выдаче \n",
    "        total_position += level  #сложите все позиции в этой переменной\n",
    "    except:\n",
    "        wrong_lines +=1\n",
    "print(f'Количество измерений {count_lines}')\n",
    "print(f'Количество некорректных строк {wrong_lines}')"
   ]
  },
  {
   "cell_type": "markdown",
   "metadata": {},
   "source": [
    "### 5"
   ]
  },
  {
   "cell_type": "markdown",
   "metadata": {},
   "source": [
    "Полезно знать не только сколько ошибок, но и где они. Добавьте возможность записывать строки с ошибками в список. \n",
    "\n",
    "Выведите на экран общее количество строк и список некорректных строк в формате:\n",
    "\n",
    "Количество измерений ...\n",
    "\n",
    "Некорректные строки ... "
   ]
  },
  {
   "cell_type": "code",
   "execution_count": 7,
   "metadata": {},
   "outputs": [
    {
     "name": "stdout",
     "output_type": "stream",
     "text": [
      "Количество измерений 10\n",
      "Некорректные строки  [['2019-05-01', '- 6'], ['2019-05-08', 'Error 5']]\n"
     ]
    }
   ],
   "source": [
    "position = [\n",
    "['2019-05-01', '- 6'],\n",
    "['2019-05-02', '+5'],\n",
    "['2019-05-03', ' 5'],\n",
    "['2019-05-04', '4'],\n",
    "['2019-05-05', '5'],\n",
    "['2019-05-06', '5'],\n",
    "['2019-05-07', '4'],\n",
    "['2019-05-08', 'Error 5'],\n",
    "['2019-05-09', '3'],\n",
    "['2019-05-10', '3'],\n",
    "]\n",
    "\n",
    "count_lines = 0\n",
    "total_position = 0\n",
    "\n",
    "wrong_lines_content = []\n",
    "\n",
    "\n",
    "for row in position:\n",
    "    try:\n",
    "        count_lines += 1\n",
    "        level = int(row[1]) #в этой переменной сохраните позицию в выдаче \n",
    "        total_position += level  #сложите все позиции в этой переменной\n",
    "    except:\n",
    "        wrong_lines_content.append(row)\n",
    "\n",
    "print(f'Количество измерений {count_lines}')\n",
    "print(f'Некорректные строки  {wrong_lines_content}')"
   ]
  }
 ],
 "metadata": {
  "kernelspec": {
   "display_name": "Python 3",
   "language": "python",
   "name": "python3"
  },
  "language_info": {
   "codemirror_mode": {
    "name": "ipython",
    "version": 3
   },
   "file_extension": ".py",
   "mimetype": "text/x-python",
   "name": "python",
   "nbconvert_exporter": "python",
   "pygments_lexer": "ipython3",
   "version": "3.11.9"
  }
 },
 "nbformat": 4,
 "nbformat_minor": 2
}
