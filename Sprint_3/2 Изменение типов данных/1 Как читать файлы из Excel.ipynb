{
 "cells": [
  {
   "cell_type": "code",
   "execution_count": 1,
   "metadata": {},
   "outputs": [],
   "source": [
    "import pandas as pd"
   ]
  },
  {
   "cell_type": "markdown",
   "metadata": {},
   "source": [
    "## 1"
   ]
  },
  {
   "cell_type": "markdown",
   "metadata": {},
   "source": [
    "Методом read_excel() прочтите первый лист 'traffic_data' Выведите на экран первые 5 строк листа методом head().\n",
    "\n",
    " Прочитайте названия столбцов:\n",
    "\n",
    "subcategory_id — идентификатор товарной подкатегории, или её зашифрованное название;\n",
    "\n",
    "source — источник трафика. В нашем случае источников два: прямой заход на сайт в таблице обозначен как direct, переход из поисковых систем — organic;\n",
    "\n",
    "visits — количество визитов на страницу подкатегории за отчётный период.\n",
    "\n",
    "Путь к файлу: /datasets/seo_data.xlsx"
   ]
  },
  {
   "cell_type": "code",
   "execution_count": 5,
   "metadata": {},
   "outputs": [
    {
     "name": "stdout",
     "output_type": "stream",
     "text": [
      "  subcategory_id  source         visits\n",
      "0     cf2e61c7af  direct  501165.668858\n",
      "1     0cd903d1cc  direct  126342.359505\n",
      "2     ef35bc88a7  direct   95626.321402\n",
      "3     6ff9f4014c  direct   75680.653002\n",
      "4     72bc238e4d  direct   64435.934651\n"
     ]
    }
   ],
   "source": [
    "data = pd.read_excel('./seo_data.xlsx', sheet_name='traffic_data')#прочитайте файл seo_data, лист traffic_data \n",
    "print(data.head())"
   ]
  },
  {
   "cell_type": "markdown",
   "metadata": {},
   "source": [
    "## 2"
   ]
  },
  {
   "cell_type": "markdown",
   "metadata": {},
   "source": [
    "Пока в первых 5 строчках таблицы виден только один источник трафика direct. \n",
    "\n",
    "Проверьте, какие источники есть в столбце source.\n",
    "\n",
    " Выведите на экран список уникальных значений этого столбца."
   ]
  },
  {
   "cell_type": "code",
   "execution_count": 12,
   "metadata": {},
   "outputs": [
    {
     "data": {
      "text/plain": [
       "array(['direct', 'organic'], dtype=object)"
      ]
     },
     "execution_count": 12,
     "metadata": {},
     "output_type": "execute_result"
    }
   ],
   "source": [
    "data['source'].unique()"
   ]
  },
  {
   "cell_type": "markdown",
   "metadata": {},
   "source": [
    "## 3"
   ]
  },
  {
   "cell_type": "markdown",
   "metadata": {},
   "source": [
    "Методом read_excel() прочтите второй лист 'subcategory_ids' и сохраните его в переменной subcategory_dict. \n",
    "\n",
    "Выведите на экран его первые 5 строк методом head().\n",
    "\n",
    "Обратите внимание на названия столбцов: к знакомым нам идентификаторам подкатегорий (subcategory_id) добавились идентификаторы категорий (category_id) и названия подкатегорий (subcategory_name).\n",
    "\n",
    "Всё это похоже на словарь, где идентификаторам подкатегорий из цифр и латинских букв соответствуют понятные нам названия. Поэтому датафрейм называется subcategory_dict."
   ]
  },
  {
   "cell_type": "code",
   "execution_count": 13,
   "metadata": {},
   "outputs": [
    {
     "data": {
      "text/html": [
       "<div>\n",
       "<style scoped>\n",
       "    .dataframe tbody tr th:only-of-type {\n",
       "        vertical-align: middle;\n",
       "    }\n",
       "\n",
       "    .dataframe tbody tr th {\n",
       "        vertical-align: top;\n",
       "    }\n",
       "\n",
       "    .dataframe thead th {\n",
       "        text-align: right;\n",
       "    }\n",
       "</style>\n",
       "<table border=\"1\" class=\"dataframe\">\n",
       "  <thead>\n",
       "    <tr style=\"text-align: right;\">\n",
       "      <th></th>\n",
       "      <th>subcategory_id</th>\n",
       "      <th>subcategory_name</th>\n",
       "      <th>category_id</th>\n",
       "    </tr>\n",
       "  </thead>\n",
       "  <tbody>\n",
       "    <tr>\n",
       "      <th>0</th>\n",
       "      <td>cf2e61c7af</td>\n",
       "      <td>Мобильные телефоны</td>\n",
       "      <td>09f279a643</td>\n",
       "    </tr>\n",
       "    <tr>\n",
       "      <th>1</th>\n",
       "      <td>0cd903d1cc</td>\n",
       "      <td>Ноутбуки</td>\n",
       "      <td>3509869a61</td>\n",
       "    </tr>\n",
       "    <tr>\n",
       "      <th>2</th>\n",
       "      <td>ef35bc88a7</td>\n",
       "      <td>Телевизоры</td>\n",
       "      <td>09f279a643</td>\n",
       "    </tr>\n",
       "    <tr>\n",
       "      <th>3</th>\n",
       "      <td>6ff9f4014c</td>\n",
       "      <td>Планшеты</td>\n",
       "      <td>3509869a61</td>\n",
       "    </tr>\n",
       "    <tr>\n",
       "      <th>4</th>\n",
       "      <td>72bc238e4d</td>\n",
       "      <td>Наушники и Bluetooth-гарнитуры</td>\n",
       "      <td>09f279a643</td>\n",
       "    </tr>\n",
       "    <tr>\n",
       "      <th>...</th>\n",
       "      <td>...</td>\n",
       "      <td>...</td>\n",
       "      <td>...</td>\n",
       "    </tr>\n",
       "    <tr>\n",
       "      <th>959</th>\n",
       "      <td>779e246861</td>\n",
       "      <td>Проволока</td>\n",
       "      <td>394f20d8fa</td>\n",
       "    </tr>\n",
       "    <tr>\n",
       "      <th>960</th>\n",
       "      <td>c51343bf77</td>\n",
       "      <td>Свитеры и кардиганы</td>\n",
       "      <td>6074ad29ac</td>\n",
       "    </tr>\n",
       "    <tr>\n",
       "      <th>961</th>\n",
       "      <td>d942687638</td>\n",
       "      <td>Термобелье</td>\n",
       "      <td>6074ad29ac</td>\n",
       "    </tr>\n",
       "    <tr>\n",
       "      <th>962</th>\n",
       "      <td>976642886f</td>\n",
       "      <td>Наклейки, шильдики и значки</td>\n",
       "      <td>65922fa39c</td>\n",
       "    </tr>\n",
       "    <tr>\n",
       "      <th>963</th>\n",
       "      <td>075994491e</td>\n",
       "      <td>Гигиена полости рта</td>\n",
       "      <td>7dbac4c1a3</td>\n",
       "    </tr>\n",
       "  </tbody>\n",
       "</table>\n",
       "<p>964 rows × 3 columns</p>\n",
       "</div>"
      ],
      "text/plain": [
       "    subcategory_id                subcategory_name category_id\n",
       "0       cf2e61c7af              Мобильные телефоны  09f279a643\n",
       "1       0cd903d1cc                        Ноутбуки  3509869a61\n",
       "2       ef35bc88a7                      Телевизоры  09f279a643\n",
       "3       6ff9f4014c                        Планшеты  3509869a61\n",
       "4       72bc238e4d  Наушники и Bluetooth-гарнитуры  09f279a643\n",
       "..             ...                             ...         ...\n",
       "959     779e246861                       Проволока  394f20d8fa\n",
       "960     c51343bf77             Свитеры и кардиганы  6074ad29ac\n",
       "961     d942687638                      Термобелье  6074ad29ac\n",
       "962     976642886f     Наклейки, шильдики и значки  65922fa39c\n",
       "963     075994491e             Гигиена полости рта  7dbac4c1a3\n",
       "\n",
       "[964 rows x 3 columns]"
      ]
     },
     "execution_count": 13,
     "metadata": {},
     "output_type": "execute_result"
    }
   ],
   "source": [
    "subcategory_dict = pd.read_excel('./seo_data.xlsx', sheet_name='subcategory_ids')\n",
    "subcategory_dict"
   ]
  },
  {
   "cell_type": "markdown",
   "metadata": {},
   "source": [
    "## 4"
   ]
  },
  {
   "cell_type": "markdown",
   "metadata": {},
   "source": [
    "Наконец, методом read_excel() прочтём третий лист category_ids и сохраним его в переменной category_dict. \n",
    "\n",
    "Выведите на экран первые 5 строк листа методом head().\n",
    "\n",
    "Путь к файлу: /datasets/seo_data.xlsx"
   ]
  },
  {
   "cell_type": "code",
   "execution_count": 14,
   "metadata": {},
   "outputs": [
    {
     "data": {
      "text/html": [
       "<div>\n",
       "<style scoped>\n",
       "    .dataframe tbody tr th:only-of-type {\n",
       "        vertical-align: middle;\n",
       "    }\n",
       "\n",
       "    .dataframe tbody tr th {\n",
       "        vertical-align: top;\n",
       "    }\n",
       "\n",
       "    .dataframe thead th {\n",
       "        text-align: right;\n",
       "    }\n",
       "</style>\n",
       "<table border=\"1\" class=\"dataframe\">\n",
       "  <thead>\n",
       "    <tr style=\"text-align: right;\">\n",
       "      <th></th>\n",
       "      <th>category_id</th>\n",
       "      <th>category_name</th>\n",
       "    </tr>\n",
       "  </thead>\n",
       "  <tbody>\n",
       "    <tr>\n",
       "      <th>0</th>\n",
       "      <td>09f279a643</td>\n",
       "      <td>Электроника</td>\n",
       "    </tr>\n",
       "    <tr>\n",
       "      <th>1</th>\n",
       "      <td>3509869a61</td>\n",
       "      <td>Компьютерная техника</td>\n",
       "    </tr>\n",
       "    <tr>\n",
       "      <th>2</th>\n",
       "      <td>65922fa39c</td>\n",
       "      <td>Авто</td>\n",
       "    </tr>\n",
       "    <tr>\n",
       "      <th>3</th>\n",
       "      <td>6074ad29ac</td>\n",
       "      <td>Одежда, обувь и аксессуары</td>\n",
       "    </tr>\n",
       "    <tr>\n",
       "      <th>4</th>\n",
       "      <td>10a493e03b</td>\n",
       "      <td>Товары для здоровья</td>\n",
       "    </tr>\n",
       "    <tr>\n",
       "      <th>5</th>\n",
       "      <td>5a0d8ac946</td>\n",
       "      <td>Бытовая техника</td>\n",
       "    </tr>\n",
       "    <tr>\n",
       "      <th>6</th>\n",
       "      <td>7dbac4c1a3</td>\n",
       "      <td>Детские товары</td>\n",
       "    </tr>\n",
       "    <tr>\n",
       "      <th>7</th>\n",
       "      <td>ae99947659</td>\n",
       "      <td>Спорт и отдых</td>\n",
       "    </tr>\n",
       "    <tr>\n",
       "      <th>8</th>\n",
       "      <td>655ccc3c49</td>\n",
       "      <td>Товары для красоты</td>\n",
       "    </tr>\n",
       "    <tr>\n",
       "      <th>9</th>\n",
       "      <td>394f20d8fa</td>\n",
       "      <td>Строительство и ремонт</td>\n",
       "    </tr>\n",
       "    <tr>\n",
       "      <th>10</th>\n",
       "      <td>dafb4d11f4</td>\n",
       "      <td>Товары для дома</td>\n",
       "    </tr>\n",
       "    <tr>\n",
       "      <th>11</th>\n",
       "      <td>bfd01f6342</td>\n",
       "      <td>Дача, сад и огород</td>\n",
       "    </tr>\n",
       "    <tr>\n",
       "      <th>12</th>\n",
       "      <td>4f25bc6081</td>\n",
       "      <td>Досуг и развлечения</td>\n",
       "    </tr>\n",
       "    <tr>\n",
       "      <th>13</th>\n",
       "      <td>22f134317d</td>\n",
       "      <td>Товары для животных</td>\n",
       "    </tr>\n",
       "    <tr>\n",
       "      <th>14</th>\n",
       "      <td>00c81185f4</td>\n",
       "      <td>Оборудование</td>\n",
       "    </tr>\n",
       "    <tr>\n",
       "      <th>15</th>\n",
       "      <td>d9cd63e557</td>\n",
       "      <td>Продукты</td>\n",
       "    </tr>\n",
       "  </tbody>\n",
       "</table>\n",
       "</div>"
      ],
      "text/plain": [
       "   category_id               category_name\n",
       "0   09f279a643                 Электроника\n",
       "1   3509869a61        Компьютерная техника\n",
       "2   65922fa39c                        Авто\n",
       "3   6074ad29ac  Одежда, обувь и аксессуары\n",
       "4   10a493e03b         Товары для здоровья\n",
       "5   5a0d8ac946             Бытовая техника\n",
       "6   7dbac4c1a3              Детские товары\n",
       "7   ae99947659               Спорт и отдых\n",
       "8   655ccc3c49          Товары для красоты\n",
       "9   394f20d8fa      Строительство и ремонт\n",
       "10  dafb4d11f4             Товары для дома\n",
       "11  bfd01f6342          Дача, сад и огород\n",
       "12  4f25bc6081         Досуг и развлечения\n",
       "13  22f134317d         Товары для животных\n",
       "14  00c81185f4                Оборудование\n",
       "15  d9cd63e557                    Продукты"
      ]
     },
     "execution_count": 14,
     "metadata": {},
     "output_type": "execute_result"
    }
   ],
   "source": [
    "category_dict = pd.read_excel('./seo_data.xlsx', sheet_name='category_ids')\n",
    "category_dict"
   ]
  },
  {
   "cell_type": "code",
   "execution_count": 6,
   "metadata": {},
   "outputs": [
    {
     "name": "stdout",
     "output_type": "stream",
     "text": [
      "<class 'pandas.core.frame.DataFrame'>\n",
      "RangeIndex: 1930 entries, 0 to 1929\n",
      "Data columns (total 3 columns):\n",
      " #   Column          Non-Null Count  Dtype \n",
      "---  ------          --------------  ----- \n",
      " 0   subcategory_id  1930 non-null   object\n",
      " 1   source          1930 non-null   object\n",
      " 2   visits          1930 non-null   object\n",
      "dtypes: object(3)\n",
      "memory usage: 45.4+ KB\n"
     ]
    }
   ],
   "source": [
    "data.info()"
   ]
  }
 ],
 "metadata": {
  "kernelspec": {
   "display_name": "Python 3",
   "language": "python",
   "name": "python3"
  },
  "language_info": {
   "codemirror_mode": {
    "name": "ipython",
    "version": 3
   },
   "file_extension": ".py",
   "mimetype": "text/x-python",
   "name": "python",
   "nbconvert_exporter": "python",
   "pygments_lexer": "ipython3",
   "version": "3.11.9"
  }
 },
 "nbformat": 4,
 "nbformat_minor": 2
}
